{
  "nbformat": 4,
  "nbformat_minor": 0,
  "metadata": {
    "colab": {
      "name": "Copy of BERT-sentiment-analysis-final.ipynb",
      "provenance": [],
      "collapsed_sections": []
    },
    "kernelspec": {
      "name": "python3",
      "display_name": "Python 3"
    },
    "language_info": {
      "name": "python"
    },
    "accelerator": "GPU"
  },
  "cells": [
    {
      "cell_type": "code",
      "metadata": {
        "id": "lNaEP4_xS8pe",
        "colab": {
          "base_uri": "https://localhost:8080/"
        },
        "outputId": "0a24c393-71b5-42ef-b310-9e65e871006b"
      },
      "source": [
        "# install dependency of the preprocessing for BERT inputs\n",
        "!pip install -q tensorflow-text"
      ],
      "execution_count": null,
      "outputs": [
        {
          "output_type": "stream",
          "text": [
            "\u001b[K     |████████████████████████████████| 3.4MB 9.1MB/s \n",
            "\u001b[?25h"
          ],
          "name": "stdout"
        }
      ]
    },
    {
      "cell_type": "code",
      "metadata": {
        "id": "4IauA-YbTF_1",
        "colab": {
          "base_uri": "https://localhost:8080/"
        },
        "outputId": "cf593299-6dd5-4dae-c4a7-7443524dd61e"
      },
      "source": [
        "!pip install -q tf-models-official"
      ],
      "execution_count": null,
      "outputs": [
        {
          "output_type": "stream",
          "text": [
            "\u001b[K     |████████████████████████████████| 1.1MB 7.8MB/s \n",
            "\u001b[K     |████████████████████████████████| 358kB 13.1MB/s \n",
            "\u001b[K     |████████████████████████████████| 37.6MB 76kB/s \n",
            "\u001b[K     |████████████████████████████████| 102kB 13.6MB/s \n",
            "\u001b[K     |████████████████████████████████| 1.2MB 56.2MB/s \n",
            "\u001b[K     |████████████████████████████████| 645kB 53.5MB/s \n",
            "\u001b[K     |████████████████████████████████| 51kB 8.0MB/s \n",
            "\u001b[K     |████████████████████████████████| 174kB 57.5MB/s \n",
            "\u001b[K     |████████████████████████████████| 706kB 53.9MB/s \n",
            "\u001b[?25h  Building wheel for py-cpuinfo (setup.py) ... \u001b[?25l\u001b[?25hdone\n",
            "  Building wheel for seqeval (setup.py) ... \u001b[?25l\u001b[?25hdone\n"
          ],
          "name": "stdout"
        }
      ]
    },
    {
      "cell_type": "code",
      "metadata": {
        "id": "G4VfWveMTG-M"
      },
      "source": [
        "import os\n",
        "import shutil\n",
        "import re\n",
        "import json\n",
        "import gc\n",
        "\n",
        "import tensorflow as tf\n",
        "import pandas as pd\n",
        "import tensorflow_hub as hub\n",
        "import tensorflow_text as text\n",
        "from official.nlp import optimization\n",
        "import nltk\n",
        "\n",
        "import matplotlib.pyplot as plt\n",
        "\n",
        "tf.get_logger().setLevel('ERROR')"
      ],
      "execution_count": null,
      "outputs": []
    },
    {
      "cell_type": "code",
      "metadata": {
        "colab": {
          "base_uri": "https://localhost:8080/"
        },
        "id": "O5lcA24YTICl",
        "outputId": "458bed58-b084-4810-89e7-cc664d37cf26"
      },
      "source": [
        "nltk.download('stopwords')\n",
        "nltk.download('punkt')"
      ],
      "execution_count": null,
      "outputs": [
        {
          "output_type": "stream",
          "text": [
            "[nltk_data] Downloading package stopwords to /root/nltk_data...\n",
            "[nltk_data]   Unzipping corpora/stopwords.zip.\n",
            "[nltk_data] Downloading package punkt to /root/nltk_data...\n",
            "[nltk_data]   Unzipping tokenizers/punkt.zip.\n"
          ],
          "name": "stdout"
        },
        {
          "output_type": "execute_result",
          "data": {
            "text/plain": [
              "True"
            ]
          },
          "metadata": {
            "tags": []
          },
          "execution_count": 4
        }
      ]
    },
    {
      "cell_type": "markdown",
      "metadata": {
        "id": "8h3fs3e_ZB-Y"
      },
      "source": [
        "# Data Preprocessing"
      ]
    },
    {
      "cell_type": "code",
      "metadata": {
        "id": "aH4n4C47TJRz"
      },
      "source": [
        "data_file_name_dict = {\n",
        "    '2014':'bostonglobe2014.csv',\n",
        "    '2015':'bostonglobe2016.csv',\n",
        "    '2016':'bostonglobe2015.csv',\n",
        "    '2017':'bostonglobe2017.csv',\n",
        "    '2018':'bostonglobe2018.csv',\n",
        "}\n",
        "TARGET_WORDS = ['black', 'cape verdean', 'afro latino', 'haitian', 'african american', 'african-american', 'caribbean', 'jmaican', 'dominican', 'west indian']"
      ],
      "execution_count": null,
      "outputs": []
    },
    {
      "cell_type": "code",
      "metadata": {
        "id": "GCG6Z1b1TMXb"
      },
      "source": [
        "def tokenize(text):\n",
        "    tokens = []\n",
        "    for token in nltk.word_tokenize(text):\n",
        "      if (token.isalnum()):\n",
        "        tokens.append(token)\n",
        "    return \" \".join(tokens)"
      ],
      "execution_count": null,
      "outputs": []
    },
    {
      "cell_type": "code",
      "metadata": {
        "id": "H9u6bVQSTPOv"
      },
      "source": [
        "def clean_text(text):\n",
        "    # text = re.sub(r\"[\\[\\]]\", \"\", text)\n",
        "    text = re.sub(r\"['\\['\\]]\", \"\", text)\n",
        "    text = re.sub(r\"\\n\", \"\", text.lower())\n",
        "    # text = tokenize(text)\n",
        "    return text"
      ],
      "execution_count": null,
      "outputs": []
    },
    {
      "cell_type": "code",
      "metadata": {
        "id": "uDZlCHxRTPk7"
      },
      "source": [
        "def extract_sentences(text):\n",
        "    \"\"\"\n",
        "        extract sentences from text file\n",
        "    \"\"\"\n",
        "    # tokenized_words = tokenize(text)\n",
        "    sentences = nltk.sent_tokenize(text)\n",
        "    sentences = [tokenize(sentence) for sentence in sentences]\n",
        "    return  sentences"
      ],
      "execution_count": null,
      "outputs": []
    },
    {
      "cell_type": "code",
      "metadata": {
        "id": "8arzP7MbTvCD"
      },
      "source": [
        "def process_files(file_names):\n",
        "  data_frames = {}\n",
        "  for key, val in file_names.items():\n",
        "    df = pd.read_csv(f'/content/drive/MyDrive/Colab Notebooks/data/boston-globe/{val}')\n",
        "    df.dropna(axis=0, how='any', thresh=None, subset=None, inplace=True)\n",
        "    df['text'] = df['text'].apply(clean_text)\n",
        "    # df['sentences'] = df['text'].apply(extract_sentences)\n",
        "    data_frames[f\"{key}\"] = df\n",
        "  return data_frames"
      ],
      "execution_count": null,
      "outputs": []
    },
    {
      "cell_type": "code",
      "metadata": {
        "id": "hB9o2FMUX07c"
      },
      "source": [
        "processed_dfs = process_files(data_file_name_dict)"
      ],
      "execution_count": null,
      "outputs": []
    },
    {
      "cell_type": "markdown",
      "metadata": {
        "id": "KJbnD6FJZGIo"
      },
      "source": [
        "# Pre training dataset"
      ]
    },
    {
      "cell_type": "markdown",
      "metadata": {
        "id": "Dz2mjBFNZKkq"
      },
      "source": [
        "Download and extract the dataset."
      ]
    },
    {
      "cell_type": "code",
      "metadata": {
        "id": "mMa0uFuPYkHq"
      },
      "source": [
        "# Download dataset\n",
        "url = 'https://ai.stanford.edu/~amaas/data/sentiment/aclImdb_v1.tar.gz'\n",
        "\n",
        "dataset = tf.keras.utils.get_file('aclImdb_v1.tar.gz', url,\n",
        "                                  untar=True, cache_dir='.',\n",
        "                                  cache_subdir='')"
      ],
      "execution_count": null,
      "outputs": []
    },
    {
      "cell_type": "code",
      "metadata": {
        "id": "_-_GYT5OZMvM"
      },
      "source": [
        "# extract dataset\n",
        "dataset_dir = os.path.join(os.path.dirname(dataset), 'aclImdb')\n",
        "\n",
        "train_dir = os.path.join(dataset_dir, 'train')\n",
        "\n",
        "# remove unused folders to make it easier to load the data\n",
        "remove_dir = os.path.join(train_dir, 'unsup')\n",
        "shutil.rmtree(remove_dir)"
      ],
      "execution_count": null,
      "outputs": []
    },
    {
      "cell_type": "code",
      "metadata": {
        "id": "hIqVq8cAZQp_",
        "colab": {
          "base_uri": "https://localhost:8080/"
        },
        "outputId": "eb748d02-7e47-4a62-b628-3ac34c4c3b90"
      },
      "source": [
        "AUTOTUNE = tf.data.AUTOTUNE\n",
        "batch_size = 32\n",
        "seed = 42\n",
        "\n",
        "raw_train_ds = tf.keras.preprocessing.text_dataset_from_directory(\n",
        "    'aclImdb/train',\n",
        "    batch_size=batch_size,\n",
        "    validation_split=0.3,\n",
        "    subset='training',\n",
        "    seed=seed)\n",
        "\n",
        "class_names = raw_train_ds.class_names\n",
        "train_ds = raw_train_ds.cache().prefetch(buffer_size=AUTOTUNE)\n",
        "\n",
        "val_ds = tf.keras.preprocessing.text_dataset_from_directory(\n",
        "    'aclImdb/train',\n",
        "    batch_size=batch_size,\n",
        "    validation_split=0.3,\n",
        "    subset='validation',\n",
        "    seed=seed)\n",
        "\n",
        "val_ds = val_ds.cache().prefetch(buffer_size=AUTOTUNE)\n",
        "\n",
        "test_ds = tf.keras.preprocessing.text_dataset_from_directory(\n",
        "    'aclImdb/test',\n",
        "    batch_size=batch_size)\n",
        "\n",
        "test_ds = test_ds.cache().prefetch(buffer_size=AUTOTUNE)"
      ],
      "execution_count": null,
      "outputs": [
        {
          "output_type": "stream",
          "text": [
            "Found 25000 files belonging to 2 classes.\n",
            "Using 17500 files for training.\n",
            "Found 25000 files belonging to 2 classes.\n",
            "Using 7500 files for validation.\n",
            "Found 25000 files belonging to 2 classes.\n"
          ],
          "name": "stdout"
        }
      ]
    },
    {
      "cell_type": "code",
      "metadata": {
        "id": "UgAAw_giZcql"
      },
      "source": [
        "tfhub_handle_encoder = 'https://tfhub.dev/tensorflow/bert_en_uncased_L-12_H-768_A-12/3'\n",
        "tfhub_handle_preprocess = 'https://tfhub.dev/tensorflow/bert_en_uncased_preprocess/3'"
      ],
      "execution_count": null,
      "outputs": []
    },
    {
      "cell_type": "code",
      "metadata": {
        "id": "bGnwPfHsZc6j"
      },
      "source": [
        "bert_preprocess_model = hub.KerasLayer(tfhub_handle_preprocess)"
      ],
      "execution_count": null,
      "outputs": []
    },
    {
      "cell_type": "code",
      "metadata": {
        "id": "PIxJ7Z6aZhDT",
        "colab": {
          "base_uri": "https://localhost:8080/"
        },
        "outputId": "f44d8fa1-d105-4cb8-db79-b0ea620398ad"
      },
      "source": [
        "text_test = ['they’re having a really hard time dealing with what they saw and experienced that day']\n",
        "text_preprocessed = bert_preprocess_model(text_test)\n",
        "print(text_preprocessed)"
      ],
      "execution_count": null,
      "outputs": [
        {
          "output_type": "stream",
          "text": [
            "{'input_word_ids': <tf.Tensor: shape=(1, 128), dtype=int32, numpy=\n",
            "array([[ 101, 2027, 1521, 2128, 2383, 1037, 2428, 2524, 2051, 7149, 2007,\n",
            "        2054, 2027, 2387, 1998, 5281, 2008, 2154,  102,    0,    0,    0,\n",
            "           0,    0,    0,    0,    0,    0,    0,    0,    0,    0,    0,\n",
            "           0,    0,    0,    0,    0,    0,    0,    0,    0,    0,    0,\n",
            "           0,    0,    0,    0,    0,    0,    0,    0,    0,    0,    0,\n",
            "           0,    0,    0,    0,    0,    0,    0,    0,    0,    0,    0,\n",
            "           0,    0,    0,    0,    0,    0,    0,    0,    0,    0,    0,\n",
            "           0,    0,    0,    0,    0,    0,    0,    0,    0,    0,    0,\n",
            "           0,    0,    0,    0,    0,    0,    0,    0,    0,    0,    0,\n",
            "           0,    0,    0,    0,    0,    0,    0,    0,    0,    0,    0,\n",
            "           0,    0,    0,    0,    0,    0,    0,    0,    0,    0,    0,\n",
            "           0,    0,    0,    0,    0,    0,    0]], dtype=int32)>, 'input_mask': <tf.Tensor: shape=(1, 128), dtype=int32, numpy=\n",
            "array([[1, 1, 1, 1, 1, 1, 1, 1, 1, 1, 1, 1, 1, 1, 1, 1, 1, 1, 1, 0, 0, 0,\n",
            "        0, 0, 0, 0, 0, 0, 0, 0, 0, 0, 0, 0, 0, 0, 0, 0, 0, 0, 0, 0, 0, 0,\n",
            "        0, 0, 0, 0, 0, 0, 0, 0, 0, 0, 0, 0, 0, 0, 0, 0, 0, 0, 0, 0, 0, 0,\n",
            "        0, 0, 0, 0, 0, 0, 0, 0, 0, 0, 0, 0, 0, 0, 0, 0, 0, 0, 0, 0, 0, 0,\n",
            "        0, 0, 0, 0, 0, 0, 0, 0, 0, 0, 0, 0, 0, 0, 0, 0, 0, 0, 0, 0, 0, 0,\n",
            "        0, 0, 0, 0, 0, 0, 0, 0, 0, 0, 0, 0, 0, 0, 0, 0, 0, 0]],\n",
            "      dtype=int32)>, 'input_type_ids': <tf.Tensor: shape=(1, 128), dtype=int32, numpy=\n",
            "array([[0, 0, 0, 0, 0, 0, 0, 0, 0, 0, 0, 0, 0, 0, 0, 0, 0, 0, 0, 0, 0, 0,\n",
            "        0, 0, 0, 0, 0, 0, 0, 0, 0, 0, 0, 0, 0, 0, 0, 0, 0, 0, 0, 0, 0, 0,\n",
            "        0, 0, 0, 0, 0, 0, 0, 0, 0, 0, 0, 0, 0, 0, 0, 0, 0, 0, 0, 0, 0, 0,\n",
            "        0, 0, 0, 0, 0, 0, 0, 0, 0, 0, 0, 0, 0, 0, 0, 0, 0, 0, 0, 0, 0, 0,\n",
            "        0, 0, 0, 0, 0, 0, 0, 0, 0, 0, 0, 0, 0, 0, 0, 0, 0, 0, 0, 0, 0, 0,\n",
            "        0, 0, 0, 0, 0, 0, 0, 0, 0, 0, 0, 0, 0, 0, 0, 0, 0, 0]],\n",
            "      dtype=int32)>}\n"
          ],
          "name": "stdout"
        }
      ]
    },
    {
      "cell_type": "markdown",
      "metadata": {
        "id": "ePN3MHG-Zb-G"
      },
      "source": [
        "## Setup BERT model"
      ]
    },
    {
      "cell_type": "code",
      "metadata": {
        "colab": {
          "base_uri": "https://localhost:8080/"
        },
        "id": "ZpSXr3NUZ4FG",
        "outputId": "db27615b-3b86-492c-f598-eeabb861ec23"
      },
      "source": [
        "bert_model = hub.KerasLayer(tfhub_handle_encoder)\n",
        "\n",
        "bert_results = bert_model(text_preprocessed)\n",
        "\n",
        "print(f'Loaded BERT: {tfhub_handle_encoder}')\n",
        "print(f'Pooled Outputs Shape:{bert_results[\"pooled_output\"].shape}')\n",
        "print(f'Pooled Outputs Values:{bert_results[\"pooled_output\"][0, :12]}')\n",
        "print(f'Sequence Outputs Shape:{bert_results[\"sequence_output\"].shape}')\n",
        "print(f'Sequence Outputs Values:{bert_results[\"sequence_output\"][0, :12]}')"
      ],
      "execution_count": null,
      "outputs": [
        {
          "output_type": "stream",
          "text": [
            "Loaded BERT: https://tfhub.dev/tensorflow/bert_en_uncased_L-12_H-768_A-12/3\n",
            "Pooled Outputs Shape:(1, 768)\n",
            "Pooled Outputs Values:[-0.7409337  -0.28116465 -0.31312737  0.47934726  0.24215557 -0.27223805\n",
            "  0.24488701  0.11676803 -0.18976872 -0.9989294   0.00386306  0.7099108 ]\n",
            "Sequence Outputs Shape:(1, 128, 768)\n",
            "Sequence Outputs Values:[[ 0.674957    0.39631465 -0.1786815  ... -0.3011799   0.5239273\n",
            "   0.16845272]\n",
            " [ 0.5983107   0.48880777 -0.30609047 ... -0.5254523   1.0947834\n",
            "  -0.17194112]\n",
            " [ 0.7551377  -0.10262491  1.0689485  ... -0.57725894 -0.10445888\n",
            "  -0.6713212 ]\n",
            " ...\n",
            " [ 0.14580077  1.0499464  -0.11399207 ... -0.59016496 -0.40768638\n",
            "  -0.5178598 ]\n",
            " [-0.53750646  0.6870447   0.07562249 ... -0.29087338 -0.2488248\n",
            "  -0.3145708 ]\n",
            " [ 0.15623733  0.35464373 -0.98118395 ... -0.15551987  0.09449583\n",
            "  -0.39022157]]\n"
          ],
          "name": "stdout"
        }
      ]
    },
    {
      "cell_type": "markdown",
      "metadata": {
        "id": "Hc4Z0Mz9Z-QK"
      },
      "source": [
        "## Define model\n"
      ]
    },
    {
      "cell_type": "code",
      "metadata": {
        "id": "Ry08n8_oZ-pI"
      },
      "source": [
        "def build_classifier_model():\n",
        "  text_input = tf.keras.layers.Input(shape=(), dtype=tf.string, name='text')\n",
        "  preprocessing_layer = hub.KerasLayer(tfhub_handle_preprocess, name='preprocessing')\n",
        "  encoder_inputs = preprocessing_layer(text_input)\n",
        "  encoder = hub.KerasLayer(tfhub_handle_encoder, trainable=True, name='BERT_encoder')\n",
        "  outputs = encoder(encoder_inputs)\n",
        "  net = outputs['pooled_output']\n",
        "  net = tf.keras.layers.Dropout(0.3)(net)\n",
        "  net = tf.keras.layers.Dense(1, activation=None, name='classifier')(net)\n",
        "  return tf.keras.Model(text_input, net)"
      ],
      "execution_count": null,
      "outputs": []
    },
    {
      "cell_type": "markdown",
      "metadata": {
        "id": "JGDB6A5TaBWG"
      },
      "source": [
        "check that the model runs with the output of the preprocessing model."
      ]
    },
    {
      "cell_type": "code",
      "metadata": {
        "colab": {
          "base_uri": "https://localhost:8080/"
        },
        "id": "teYi3wRCaEBf",
        "outputId": "c577461d-ad59-4d8e-e543-bfe8e8d570c6"
      },
      "source": [
        "model = build_classifier_model()\n",
        "bert_raw_result = model(tf.constant(text_test))\n",
        "print(tf.sigmoid(bert_raw_result))"
      ],
      "execution_count": null,
      "outputs": [
        {
          "output_type": "stream",
          "text": [
            "tf.Tensor([[0.23470142]], shape=(1, 1), dtype=float32)\n"
          ],
          "name": "stdout"
        }
      ]
    },
    {
      "cell_type": "code",
      "metadata": {
        "id": "tY8t9wAPaGZb"
      },
      "source": [
        "# tf.keras.utils.plot_model(model)"
      ],
      "execution_count": null,
      "outputs": []
    },
    {
      "cell_type": "markdown",
      "metadata": {
        "id": "RYr3PxTQaRxd"
      },
      "source": [
        "### Loss function"
      ]
    },
    {
      "cell_type": "code",
      "metadata": {
        "id": "UltRepiTaTXV"
      },
      "source": [
        "# setup binary crossentropy loss\n",
        "loss = tf.keras.losses.BinaryCrossentropy(from_logits=True)\n",
        "metrics = tf.metrics.BinaryAccuracy()"
      ],
      "execution_count": null,
      "outputs": []
    },
    {
      "cell_type": "markdown",
      "metadata": {
        "id": "DZQMmCGbaVrF"
      },
      "source": [
        "### Optimizer\n",
        "use the same optimizer that BERT was originally trained with: the \"Adaptive Moments\" (Adam). "
      ]
    },
    {
      "cell_type": "code",
      "metadata": {
        "id": "V8ettaOOaV4d"
      },
      "source": [
        "epochs = 5\n",
        "steps_per_epoch = tf.data.experimental.cardinality(train_ds).numpy()\n",
        "num_train_steps = steps_per_epoch * epochs\n",
        "num_warmup_steps = int(0.1*num_train_steps)\n",
        "\n",
        "init_lr = 2e-4\n",
        "optimizer = optimization.create_optimizer(init_lr=init_lr,\n",
        "                                          num_train_steps=num_train_steps,\n",
        "                                          num_warmup_steps=num_warmup_steps,\n",
        "                                          optimizer_type='adamw')"
      ],
      "execution_count": null,
      "outputs": []
    },
    {
      "cell_type": "markdown",
      "metadata": {
        "id": "gGMSE1IsaaLA"
      },
      "source": [
        "### Loading the BERT model and training"
      ]
    },
    {
      "cell_type": "code",
      "metadata": {
        "id": "m4dNI8egaZdz"
      },
      "source": [
        "model.compile(optimizer=optimizer,\n",
        "                         loss=loss,\n",
        "                         metrics=metrics)"
      ],
      "execution_count": null,
      "outputs": []
    },
    {
      "cell_type": "code",
      "metadata": {
        "id": "y6Y0fjMpaac8",
        "colab": {
          "base_uri": "https://localhost:8080/"
        },
        "outputId": "688b5c1b-6e1e-4a51-8d73-3a113348546e"
      },
      "source": [
        "print(f'Training model with {tfhub_handle_encoder}')\n",
        "history = model.fit(x=train_ds,\n",
        "                               validation_data=val_ds,\n",
        "                               epochs=epochs)"
      ],
      "execution_count": null,
      "outputs": [
        {
          "output_type": "stream",
          "text": [
            "Training model with https://tfhub.dev/tensorflow/bert_en_uncased_L-12_H-768_A-12/3\n",
            "Epoch 1/5\n",
            "547/547 [==============================] - 362s 636ms/step - loss: 0.5183 - binary_accuracy: 0.7368 - val_loss: 0.3531 - val_binary_accuracy: 0.8324\n",
            "Epoch 2/5\n",
            "547/547 [==============================] - 343s 627ms/step - loss: 0.3237 - binary_accuracy: 0.8664 - val_loss: 0.3865 - val_binary_accuracy: 0.8516\n",
            "Epoch 3/5\n",
            "547/547 [==============================] - 342s 626ms/step - loss: 0.1764 - binary_accuracy: 0.9385 - val_loss: 0.6588 - val_binary_accuracy: 0.8357\n",
            "Epoch 4/5\n",
            "547/547 [==============================] - 342s 626ms/step - loss: 0.0951 - binary_accuracy: 0.9726 - val_loss: 0.7761 - val_binary_accuracy: 0.8573\n",
            "Epoch 5/5\n",
            "547/547 [==============================] - 343s 627ms/step - loss: 0.0366 - binary_accuracy: 0.9922 - val_loss: 0.8699 - val_binary_accuracy: 0.8565\n"
          ],
          "name": "stdout"
        }
      ]
    },
    {
      "cell_type": "markdown",
      "metadata": {
        "id": "8cs3T1ONafUq"
      },
      "source": [
        "### Evaluate the model"
      ]
    },
    {
      "cell_type": "code",
      "metadata": {
        "id": "yiZebg2Xaf2B",
        "colab": {
          "base_uri": "https://localhost:8080/"
        },
        "outputId": "09a80360-0bf4-4acc-d100-9323c4652c13"
      },
      "source": [
        "loss, accuracy = model.evaluate(test_ds)\n",
        "\n",
        "print(f'Loss: {loss}')\n",
        "print(f'Accuracy: {accuracy}')"
      ],
      "execution_count": null,
      "outputs": [
        {
          "output_type": "stream",
          "text": [
            "782/782 [==============================] - 168s 214ms/step - loss: 0.9481 - binary_accuracy: 0.8484\n",
            "Loss: 0.9480555653572083\n",
            "Accuracy: 0.8484399914741516\n"
          ],
          "name": "stdout"
        }
      ]
    },
    {
      "cell_type": "markdown",
      "metadata": {
        "id": "NyditsXuaq2r"
      },
      "source": [
        "### Plot the accuracy and loss over time"
      ]
    },
    {
      "cell_type": "code",
      "metadata": {
        "id": "EmJStPEUahKu",
        "colab": {
          "base_uri": "https://localhost:8080/",
          "height": 438
        },
        "outputId": "be36c621-2f4b-48b0-ac56-e86ea81a2f0e"
      },
      "source": [
        "history_dict = history.history\n",
        "print(history_dict.keys())\n",
        "\n",
        "acc = history_dict['binary_accuracy']\n",
        "val_acc = history_dict['val_binary_accuracy']\n",
        "loss = history_dict['loss']\n",
        "val_loss = history_dict['val_loss']\n",
        "\n",
        "epochs = range(1, len(acc) + 1)\n",
        "fig = plt.figure(figsize=(10, 6))\n",
        "fig.tight_layout()\n",
        "\n",
        "plt.subplot(2, 1, 1)\n",
        "plt.plot(epochs, loss, 'r', label='Training loss')\n",
        "\n",
        "plt.plot(epochs, val_loss, 'b', label='Validation loss')\n",
        "plt.title('Training and validation loss')\n",
        "plt.xlabel('Epochs')\n",
        "plt.ylabel('Loss')\n",
        "plt.legend()\n",
        "\n",
        "plt.subplot(2, 1, 2)\n",
        "plt.plot(epochs, acc, 'r', label='Training acc')\n",
        "plt.plot(epochs, val_acc, 'b', label='Validation acc')\n",
        "plt.title('Training and validation accuracy')\n",
        "plt.xlabel('Epochs')\n",
        "plt.ylabel('Accuracy')\n",
        "plt.legend(loc='lower right')"
      ],
      "execution_count": null,
      "outputs": [
        {
          "output_type": "stream",
          "text": [
            "dict_keys(['loss', 'binary_accuracy', 'val_loss', 'val_binary_accuracy'])\n"
          ],
          "name": "stdout"
        },
        {
          "output_type": "execute_result",
          "data": {
            "text/plain": [
              "<matplotlib.legend.Legend at 0x7f8d5d7cfd50>"
            ]
          },
          "metadata": {
            "tags": []
          },
          "execution_count": 37
        },
        {
          "output_type": "display_data",
          "data": {
            "image/png": "[encoded data removed]",
            "text/plain": [
              "<Figure size 720x432 with 2 Axes>"
            ]
          },
          "metadata": {
            "tags": [],
            "needs_background": "light"
          }
        }
      ]
    },
    {
      "cell_type": "code",
      "metadata": {
        "id": "goQfdP_4arDR"
      },
      "source": [
        "model_fname = 'IMDB_BERT_CLASSIFIER_4'\n",
        "my_wd = '/content/drive/MyDrive/Colab Notebooks/Models/'\n",
        "saved_model_path = os.path.join(my_wd, model_fname)"
      ],
      "execution_count": null,
      "outputs": []
    },
    {
      "cell_type": "code",
      "metadata": {
        "id": "r_v-T5hNawrL",
        "colab": {
          "base_uri": "https://localhost:8080/"
        },
        "outputId": "3955a89b-2d1c-4479-b6e0-067db80b432a"
      },
      "source": [
        "model.save(saved_model_path, include_optimizer=False)"
      ],
      "execution_count": null,
      "outputs": [
        {
          "output_type": "stream",
          "text": [
            "WARNING:absl:Found untraced functions such as restored_function_body, restored_function_body, restored_function_body, restored_function_body, restored_function_body while saving (showing 5 of 910). These functions will not be directly callable after loading.\n",
            "WARNING:absl:Found untraced functions such as restored_function_body, restored_function_body, restored_function_body, restored_function_body, restored_function_body while saving (showing 5 of 910). These functions will not be directly callable after loading.\n"
          ],
          "name": "stderr"
        }
      ]
    },
    {
      "cell_type": "markdown",
      "metadata": {
        "id": "VWYIJSoka05W"
      },
      "source": [
        "#### load saved model"
      ]
    },
    {
      "cell_type": "code",
      "metadata": {
        "id": "qRYAXQxSa2Ve"
      },
      "source": [
        "# model = tf.saved_model.load(saved_model_path)"
      ],
      "execution_count": null,
      "outputs": []
    },
    {
      "cell_type": "code",
      "metadata": {
        "id": "nP7WlOnObo-w"
      },
      "source": [
        "def process_articles(articles):\n",
        "  print(len(articles))\n",
        "  selected_sentences = []\n",
        "  for article in articles:\n",
        "    result = [word for word in TARGET_WORDS if(word in article)]\n",
        "    if (bool(result)):\n",
        "      selected_sentences.append(article)\n",
        "  print(len(selected_sentences))\n",
        "  return selected_sentences"
      ],
      "execution_count": null,
      "outputs": []
    },
    {
      "cell_type": "code",
      "metadata": {
        "id": "UfAZ18zXiB4e"
      },
      "source": [
        "def write_to_file(document, file):\n",
        "    document = json.dumps(document)\n",
        "    with open(file, 'w') as f:\n",
        "        f.write(document)\n",
        "    print(\"file write to disk complete\")"
      ],
      "execution_count": null,
      "outputs": []
    },
    {
      "cell_type": "code",
      "metadata": {
        "id": "e6tp7qNMa6Ru"
      },
      "source": [
        "# def predict_sentiments(data_frames):\n",
        "#   total_sentiment_frequency = {}\n",
        "\n",
        "#   for key, df in data_frames.items():\n",
        "#     pred_sentences = process_articles(df['text'])\n",
        "    \n",
        "#     parsed_results = tf.sigmoid(model(tf.constant(pred_sentences))).numpy()\n",
        "#     sentiment_frequency = { \n",
        "#       \"Negative\": 0,\n",
        "#       \"Positive\": 0,\n",
        "#     }\n",
        "#     for i in parsed_results:\n",
        "#       if (i[0] > 0.5):\n",
        "#         sentiment_frequency['Positive'] += 1\n",
        "#       else:\n",
        "#         sentiment_frequency['Negative'] += 1\n",
        "#     total_sentiment_frequency[key] = sentiment_frequency\n",
        "#     file = f'/content/drive/MyDrive/Colab Notebooks/results/total_sentiment_frequency'\n",
        "#     write_to_file(total_sentiment_frequency, file)\n",
        "#   return total_sentiment_frequency"
      ],
      "execution_count": null,
      "outputs": []
    },
    {
      "cell_type": "code",
      "metadata": {
        "id": "1UBxr8iGrWTN"
      },
      "source": [
        "def predict_sentiments(key, dataframe):\n",
        "  print(key)\n",
        "  pred_sentences = process_articles(dataframe['text'])\n",
        "  \n",
        "  parsed_results = tf.sigmoid(model(tf.constant(pred_sentences))).numpy()\n",
        "  sentiment_frequency = { \n",
        "    \"Negative\": 0,\n",
        "    \"Positive\": 0,\n",
        "  }\n",
        "  for i in parsed_results:\n",
        "    if (i[0] > 0.5):\n",
        "      sentiment_frequency['Positive'] += 1\n",
        "    else:\n",
        "      sentiment_frequency['Negative'] += 1\n",
        "  file = f'/content/drive/MyDrive/Colab Notebooks/results/sentiment_frequency_{key}'\n",
        "  write_to_file(sentiment_frequency, file)\n",
        "  return sentiment_frequency"
      ],
      "execution_count": null,
      "outputs": []
    },
    {
      "cell_type": "code",
      "metadata": {
        "colab": {
          "base_uri": "https://localhost:8080/"
        },
        "id": "5NSup6CL05GK",
        "outputId": "388e82d1-d3bd-48fa-e77b-9b6b26d165ad"
      },
      "source": [
        "# change the key value to values between 2014-2018 to generate sentiment predictions for all articles in the said year\n",
        "key = '2018'\n",
        "sentiment_frequency = predict_sentiments(key, processed_dfs[key])"
      ],
      "execution_count": null,
      "outputs": [
        {
          "output_type": "stream",
          "text": [
            "2018\n",
            "8291\n",
            "3260\n"
          ],
          "name": "stdout"
        }
      ]
    },
    {
      "cell_type": "code",
      "metadata": {
        "colab": {
          "base_uri": "https://localhost:8080/"
        },
        "id": "KwdwpoTK1lLz",
        "outputId": "e9c6a8c3-dabf-4ac6-ec2d-ca947d9e50c1"
      },
      "source": [
        "total_sentiment_frequency={}\n",
        "for key in processed_dfs:\n",
        "  file = f'/content/drive/MyDrive/Colab Notebooks/results/sentiment_frequency_{key}'\n",
        "  with open(file, \"r\") as f:\n",
        "    print(f\"read {file} complete\")\n",
        "    total_sentiment_frequency[key] = json.load(f)"
      ],
      "execution_count": null,
      "outputs": [
        {
          "output_type": "stream",
          "text": [
            "read /content/drive/MyDrive/Colab Notebooks/results/sentiment_frequency_2014 complete\n",
            "read /content/drive/MyDrive/Colab Notebooks/results/sentiment_frequency_2015 complete\n",
            "read /content/drive/MyDrive/Colab Notebooks/results/sentiment_frequency_2016 complete\n",
            "read /content/drive/MyDrive/Colab Notebooks/results/sentiment_frequency_2017 complete\n"
          ],
          "name": "stdout"
        }
      ]
    },
    {
      "cell_type": "code",
      "metadata": {
        "colab": {
          "base_uri": "https://localhost:8080/",
          "height": 1000
        },
        "id": "idwKYVDcsJQb",
        "outputId": "5f53a6a1-8129-4067-a161-22ace1de4435"
      },
      "source": [
        "for key, val in total_sentiment_frequency.items():\n",
        "  plt.title(f'{key} Sentiment analyis')\n",
        "  plt.bar(['negative', 'positive'], [val['Negative'], val['Positive']])\n",
        "  plt.ylabel('count')\n",
        "  plt.show()"
      ],
      "execution_count": null,
      "outputs": [
        {
          "output_type": "display_data",
          "data": {
            "image/png": "[encoded data removed]",
            "text/plain": [
              "<Figure size 432x288 with 1 Axes>"
            ]
          },
          "metadata": {
            "tags": [],
            "needs_background": "light"
          }
        },
        {
          "output_type": "display_data",
          "data": {
            "image/png": "[encoded data removed]",
            "text/plain": [
              "<Figure size 432x288 with 1 Axes>"
            ]
          },
          "metadata": {
            "tags": [],
            "needs_background": "light"
          }
        },
        {
          "output_type": "display_data",
          "data": {
            "image/png": "[encoded data removed]",
            "text/plain": [
              "<Figure size 432x288 with 1 Axes>"
            ]
          },
          "metadata": {
            "tags": [],
            "needs_background": "light"
          }
        },
        {
          "output_type": "display_data",
          "data": {
            "image/png": "[encoded data removed]",
            "text/plain": [
              "<Figure size 432x288 with 1 Axes>"
            ]
          },
          "metadata": {
            "tags": [],
            "needs_background": "light"
          }
        }
      ]
    }
  ]
}