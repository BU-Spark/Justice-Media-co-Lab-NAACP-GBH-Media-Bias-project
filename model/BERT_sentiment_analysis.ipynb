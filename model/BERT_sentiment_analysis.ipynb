{
  "nbformat": 4,
  "nbformat_minor": 0,
  "metadata": {
    "colab": {
      "name": "BERT-sentiment-analysis-final.ipynb",
      "provenance": [],
      "collapsed_sections": []
    },
    "kernelspec": {
      "name": "python3",
      "display_name": "Python 3"
    },
    "language_info": {
      "name": "python"
    }
  },
  "cells": [
    {
      "cell_type": "code",
      "metadata": {
        "id": "lNaEP4_xS8pe"
      },
      "source": [
        "# install dependency of the preprocessing for BERT inputs\n",
        "!pip install -q tensorflow-text"
      ],
      "execution_count": 7,
      "outputs": []
    },
    {
      "cell_type": "code",
      "metadata": {
        "id": "4IauA-YbTF_1"
      },
      "source": [
        "!pip install -q tf-models-official"
      ],
      "execution_count": 8,
      "outputs": []
    },
    {
      "cell_type": "code",
      "metadata": {
        "id": "G4VfWveMTG-M"
      },
      "source": [
        "import os\n",
        "import shutil\n",
        "import re\n",
        "import json\n",
        "import gc\n",
        "\n",
        "import tensorflow as tf\n",
        "import pandas as pd\n",
        "import tensorflow_hub as hub\n",
        "import tensorflow_text as text\n",
        "from official.nlp import optimization\n",
        "import nltk\n",
        "\n",
        "import matplotlib.pyplot as plt\n",
        "\n",
        "tf.get_logger().setLevel('ERROR')"
      ],
      "execution_count": 9,
      "outputs": []
    },
    {
      "cell_type": "code",
      "metadata": {
        "colab": {
          "base_uri": "https://localhost:8080/"
        },
        "id": "O5lcA24YTICl",
        "outputId": "daafa466-3ace-4b50-8535-a4d614099320"
      },
      "source": [
        "nltk.download('stopwords')\n",
        "nltk.download('punkt')"
      ],
      "execution_count": 10,
      "outputs": [
        {
          "output_type": "stream",
          "text": [
            "[nltk_data] Downloading package stopwords to /root/nltk_data...\n",
            "[nltk_data]   Package stopwords is already up-to-date!\n",
            "[nltk_data] Downloading package punkt to /root/nltk_data...\n",
            "[nltk_data]   Package punkt is already up-to-date!\n"
          ],
          "name": "stdout"
        },
        {
          "output_type": "execute_result",
          "data": {
            "text/plain": [
              "True"
            ]
          },
          "metadata": {
            "tags": []
          },
          "execution_count": 10
        }
      ]
    },
    {
      "cell_type": "markdown",
      "metadata": {
        "id": "8h3fs3e_ZB-Y"
      },
      "source": [
        "# Data Preprocessing"
      ]
    },
    {
      "cell_type": "code",
      "metadata": {
        "id": "aH4n4C47TJRz"
      },
      "source": [
        "data_file_name_dict = {\n",
        "    '2014':'bostonglobe2014.csv',\n",
        "    '2015':'bostonglobe2016.csv',\n",
        "    '2016':'bostonglobe2015.csv',\n",
        "    '2017':'bostonglobe2017.csv',\n",
        "    # '2018':'bostonglobe2018.csv',\n",
        "}\n",
        "TARGET_WORDS = ['black', 'cape verdean', 'afro latino', 'haitian', 'african american', 'african-american', 'caribbean', 'jmaican', 'dominican', 'west indian']"
      ],
      "execution_count": 11,
      "outputs": []
    },
    {
      "cell_type": "code",
      "metadata": {
        "id": "GCG6Z1b1TMXb"
      },
      "source": [
        "def tokenize(text):\n",
        "    tokens = []\n",
        "    for token in nltk.word_tokenize(text):\n",
        "      if (token.isalnum()):\n",
        "        tokens.append(token)\n",
        "    return \" \".join(tokens)"
      ],
      "execution_count": 12,
      "outputs": []
    },
    {
      "cell_type": "code",
      "metadata": {
        "id": "H9u6bVQSTPOv"
      },
      "source": [
        "def clean_text(text):\n",
        "    # text = re.sub(r\"[\\[\\]]\", \"\", text)\n",
        "    text = re.sub(r\"['\\['\\]]\", \"\", text)\n",
        "    text = re.sub(r\"\\n\", \"\", text.lower())\n",
        "    # text = tokenize(text)\n",
        "    return text"
      ],
      "execution_count": 13,
      "outputs": []
    },
    {
      "cell_type": "code",
      "metadata": {
        "id": "uDZlCHxRTPk7"
      },
      "source": [
        "def extract_sentences(text):\n",
        "    \"\"\"\n",
        "        extract sentences from text file\n",
        "    \"\"\"\n",
        "    # tokenized_words = tokenize(text)\n",
        "    sentences = nltk.sent_tokenize(text)\n",
        "    sentences = [tokenize(sentence) for sentence in sentences]\n",
        "    return  sentences"
      ],
      "execution_count": 14,
      "outputs": []
    },
    {
      "cell_type": "code",
      "metadata": {
        "id": "8arzP7MbTvCD"
      },
      "source": [
        "def process_files(file_names):\n",
        "  data_frames = {}\n",
        "  for key, val in file_names.items():\n",
        "    df = pd.read_csv(f'/content/drive/MyDrive/Colab Notebooks/data/boston-globe/{val}')\n",
        "    df.dropna(axis=0, how='any', thresh=None, subset=None, inplace=True)\n",
        "    df['text'] = df['text'].apply(clean_text)\n",
        "    # df['sentences'] = df['text'].apply(extract_sentences)\n",
        "    data_frames[f\"{key}\"] = df\n",
        "  return data_frames"
      ],
      "execution_count": 15,
      "outputs": []
    },
    {
      "cell_type": "code",
      "metadata": {
        "id": "hB9o2FMUX07c"
      },
      "source": [
        "processed_dfs = process_files(data_file_name_dict)"
      ],
      "execution_count": 16,
      "outputs": []
    },
    {
      "cell_type": "markdown",
      "metadata": {
        "id": "KJbnD6FJZGIo"
      },
      "source": [
        "# Pre training dataset"
      ]
    },
    {
      "cell_type": "markdown",
      "metadata": {
        "id": "Dz2mjBFNZKkq"
      },
      "source": [
        "Download and extract the dataset."
      ]
    },
    {
      "cell_type": "code",
      "metadata": {
        "id": "mMa0uFuPYkHq"
      },
      "source": [
        "# Download dataset\n",
        "url = 'https://ai.stanford.edu/~amaas/data/sentiment/aclImdb_v1.tar.gz'\n",
        "\n",
        "dataset = tf.keras.utils.get_file('aclImdb_v1.tar.gz', url,\n",
        "                                  untar=True, cache_dir='.',\n",
        "                                  cache_subdir='')"
      ],
      "execution_count": null,
      "outputs": []
    },
    {
      "cell_type": "code",
      "metadata": {
        "id": "_-_GYT5OZMvM"
      },
      "source": [
        "# extract dataset\n",
        "dataset_dir = os.path.join(os.path.dirname(dataset), 'aclImdb')\n",
        "\n",
        "train_dir = os.path.join(dataset_dir, 'train')\n",
        "\n",
        "# remove unused folders to make it easier to load the data\n",
        "remove_dir = os.path.join(train_dir, 'unsup')\n",
        "shutil.rmtree(remove_dir)"
      ],
      "execution_count": null,
      "outputs": []
    },
    {
      "cell_type": "code",
      "metadata": {
        "id": "hIqVq8cAZQp_"
      },
      "source": [
        "AUTOTUNE = tf.data.AUTOTUNE\n",
        "batch_size = 16\n",
        "seed = 42\n",
        "\n",
        "raw_train_ds = tf.keras.preprocessing.text_dataset_from_directory(\n",
        "    'aclImdb/train',\n",
        "    batch_size=batch_size,\n",
        "    validation_split=0.25,\n",
        "    subset='training',\n",
        "    seed=seed)\n",
        "\n",
        "class_names = raw_train_ds.class_names\n",
        "train_ds = raw_train_ds.cache().prefetch(buffer_size=AUTOTUNE)\n",
        "\n",
        "val_ds = tf.keras.preprocessing.text_dataset_from_directory(\n",
        "    'aclImdb/train',\n",
        "    batch_size=batch_size,\n",
        "    validation_split=0.25,\n",
        "    subset='validation',\n",
        "    seed=seed)\n",
        "\n",
        "val_ds = val_ds.cache().prefetch(buffer_size=AUTOTUNE)\n",
        "\n",
        "test_ds = tf.keras.preprocessing.text_dataset_from_directory(\n",
        "    'aclImdb/test',\n",
        "    batch_size=batch_size)\n",
        "\n",
        "test_ds = test_ds.cache().prefetch(buffer_size=AUTOTUNE)"
      ],
      "execution_count": null,
      "outputs": []
    },
    {
      "cell_type": "code",
      "metadata": {
        "id": "UgAAw_giZcql"
      },
      "source": [
        "tfhub_handle_encoder = 'https://tfhub.dev/tensorflow/bert_en_uncased_L-12_H-768_A-12/3'\n",
        "tfhub_handle_preprocess = 'https://tfhub.dev/tensorflow/bert_en_uncased_preprocess/3'"
      ],
      "execution_count": null,
      "outputs": []
    },
    {
      "cell_type": "code",
      "metadata": {
        "id": "bGnwPfHsZc6j"
      },
      "source": [
        "bert_preprocess_model = hub.KerasLayer(tfhub_handle_preprocess)"
      ],
      "execution_count": null,
      "outputs": []
    },
    {
      "cell_type": "code",
      "metadata": {
        "id": "PIxJ7Z6aZhDT"
      },
      "source": [
        "text_test = ['they’re having a really hard time dealing with what they saw and experienced that day']\n",
        "text_preprocessed = bert_preprocess_model(text_test)\n",
        "print(text_preprocessed)"
      ],
      "execution_count": null,
      "outputs": []
    },
    {
      "cell_type": "markdown",
      "metadata": {
        "id": "ePN3MHG-Zb-G"
      },
      "source": [
        "## Setup BERT model"
      ]
    },
    {
      "cell_type": "code",
      "metadata": {
        "colab": {
          "base_uri": "https://localhost:8080/"
        },
        "id": "ZpSXr3NUZ4FG",
        "outputId": "e21fd44b-6d9e-4363-9344-5e4e3c4de953"
      },
      "source": [
        "bert_model = hub.KerasLayer(tfhub_handle_encoder)\n",
        "\n",
        "bert_results = bert_model(text_preprocessed)\n",
        "\n",
        "print(f'Loaded BERT: {tfhub_handle_encoder}')\n",
        "print(f'Pooled Outputs Shape:{bert_results[\"pooled_output\"].shape}')\n",
        "print(f'Pooled Outputs Values:{bert_results[\"pooled_output\"][0, :12]}')\n",
        "print(f'Sequence Outputs Shape:{bert_results[\"sequence_output\"].shape}')\n",
        "print(f'Sequence Outputs Values:{bert_results[\"sequence_output\"][0, :12]}')"
      ],
      "execution_count": 17,
      "outputs": [
        {
          "output_type": "stream",
          "text": [
            "Loaded BERT: https://tfhub.dev/tensorflow/bert_en_uncased_L-12_H-768_A-12/3\n",
            "Pooled Outputs Shape:(1, 768)\n",
            "Pooled Outputs Values:[-0.7409344  -0.28116405 -0.31312478  0.47934732  0.24215393 -0.27223784\n",
            "  0.24488892  0.11676791 -0.18976676 -0.9989294   0.0038644   0.70991   ]\n",
            "Sequence Outputs Shape:(1, 128, 768)\n",
            "Sequence Outputs Values:[[ 0.67495686  0.39631575 -0.17868163 ... -0.301179    0.52392757\n",
            "   0.16845411]\n",
            " [ 0.5983113   0.48880827 -0.30609077 ... -0.52545214  1.0947837\n",
            "  -0.1719397 ]\n",
            " [ 0.7551388  -0.10262445  1.0689487  ... -0.57726055 -0.10445885\n",
            "  -0.6713221 ]\n",
            " ...\n",
            " [ 0.14580089  1.0499463  -0.11399288 ... -0.59016424 -0.40768573\n",
            "  -0.5178602 ]\n",
            " [-0.5375041   0.68704563  0.07562196 ... -0.29087263 -0.2488248\n",
            "  -0.31457156]\n",
            " [ 0.15623756  0.35464486 -0.9811838  ... -0.15551999  0.0944948\n",
            "  -0.3902223 ]]\n"
          ],
          "name": "stdout"
        }
      ]
    },
    {
      "cell_type": "markdown",
      "metadata": {
        "id": "Hc4Z0Mz9Z-QK"
      },
      "source": [
        "## Define model\n"
      ]
    },
    {
      "cell_type": "code",
      "metadata": {
        "id": "Ry08n8_oZ-pI"
      },
      "source": [
        "def build_classifier_model():\n",
        "  text_input = tf.keras.layers.Input(shape=(), dtype=tf.string, name='text')\n",
        "  preprocessing_layer = hub.KerasLayer(tfhub_handle_preprocess, name='preprocessing')\n",
        "  encoder_inputs = preprocessing_layer(text_input)\n",
        "  encoder = hub.KerasLayer(tfhub_handle_encoder, trainable=True, name='BERT_encoder')\n",
        "  outputs = encoder(encoder_inputs)\n",
        "  net = outputs['pooled_output']\n",
        "  net = tf.keras.layers.Dropout(0.3)(net)\n",
        "  net = tf.keras.layers.Dense(1, activation=None, name='classifier')(net)\n",
        "  return tf.keras.Model(text_input, net)"
      ],
      "execution_count": 18,
      "outputs": []
    },
    {
      "cell_type": "markdown",
      "metadata": {
        "id": "JGDB6A5TaBWG"
      },
      "source": [
        "check that the model runs with the output of the preprocessing model."
      ]
    },
    {
      "cell_type": "code",
      "metadata": {
        "colab": {
          "base_uri": "https://localhost:8080/"
        },
        "id": "teYi3wRCaEBf",
        "outputId": "a8c44c07-5d5a-4963-a628-463781fc0703"
      },
      "source": [
        "model = build_classifier_model()\n",
        "bert_raw_result = model(tf.constant(text_test))\n",
        "print(tf.sigmoid(bert_raw_result))"
      ],
      "execution_count": 19,
      "outputs": [
        {
          "output_type": "stream",
          "text": [
            "tf.Tensor([[0.71919984]], shape=(1, 1), dtype=float32)\n"
          ],
          "name": "stdout"
        }
      ]
    },
    {
      "cell_type": "code",
      "metadata": {
        "id": "tY8t9wAPaGZb"
      },
      "source": [
        "# tf.keras.utils.plot_model(model)"
      ],
      "execution_count": 23,
      "outputs": []
    },
    {
      "cell_type": "markdown",
      "metadata": {
        "id": "RYr3PxTQaRxd"
      },
      "source": [
        "### Loss function"
      ]
    },
    {
      "cell_type": "code",
      "metadata": {
        "id": "UltRepiTaTXV"
      },
      "source": [
        "# setup binary crossentropy loss\n",
        "loss = tf.keras.losses.BinaryCrossentropy(from_logits=True)\n",
        "metrics = tf.metrics.BinaryAccuracy()"
      ],
      "execution_count": 24,
      "outputs": []
    },
    {
      "cell_type": "markdown",
      "metadata": {
        "id": "DZQMmCGbaVrF"
      },
      "source": [
        "### Optimizer\n",
        "use the same optimizer that BERT was originally trained with: the \"Adaptive Moments\" (Adam). "
      ]
    },
    {
      "cell_type": "code",
      "metadata": {
        "id": "V8ettaOOaV4d"
      },
      "source": [
        "epochs = 8\n",
        "steps_per_epoch = tf.data.experimental.cardinality(train_ds).numpy()\n",
        "num_train_steps = steps_per_epoch * epochs\n",
        "num_warmup_steps = int(0.1*num_train_steps)\n",
        "\n",
        "init_lr = 3e-5\n",
        "optimizer = optimization.create_optimizer(init_lr=init_lr,\n",
        "                                          num_train_steps=num_train_steps,\n",
        "                                          num_warmup_steps=num_warmup_steps,\n",
        "                                          optimizer_type='adamw')"
      ],
      "execution_count": 25,
      "outputs": []
    },
    {
      "cell_type": "markdown",
      "metadata": {
        "id": "gGMSE1IsaaLA"
      },
      "source": [
        "### Loading the BERT model and training"
      ]
    },
    {
      "cell_type": "code",
      "metadata": {
        "id": "m4dNI8egaZdz"
      },
      "source": [
        "model.compile(optimizer=optimizer,\n",
        "                         loss=loss,\n",
        "                         metrics=metrics)"
      ],
      "execution_count": 95,
      "outputs": []
    },
    {
      "cell_type": "code",
      "metadata": {
        "id": "y6Y0fjMpaac8"
      },
      "source": [
        "print(f'Training model with {tfhub_handle_encoder}')\n",
        "history = model.fit(x=train_ds,\n",
        "                               validation_data=val_ds,\n",
        "                               epochs=epochs)"
      ],
      "execution_count": 97,
      "outputs": []
    },
    {
      "cell_type": "markdown",
      "metadata": {
        "id": "8cs3T1ONafUq"
      },
      "source": [
        "### Evaluate the model"
      ]
    },
    {
      "cell_type": "code",
      "metadata": {
        "id": "yiZebg2Xaf2B"
      },
      "source": [
        "loss, accuracy = model.evaluate(test_ds)\n",
        "\n",
        "print(f'Loss: {loss}')\n",
        "print(f'Accuracy: {accuracy}')"
      ],
      "execution_count": 93,
      "outputs": []
    },
    {
      "cell_type": "markdown",
      "metadata": {
        "id": "NyditsXuaq2r"
      },
      "source": [
        "### Plot the accuracy and loss over time"
      ]
    },
    {
      "cell_type": "code",
      "metadata": {
        "id": "EmJStPEUahKu"
      },
      "source": [
        "history_dict = history.history\n",
        "print(history_dict.keys())\n",
        "\n",
        "acc = history_dict['binary_accuracy']\n",
        "val_acc = history_dict['val_binary_accuracy']\n",
        "loss = history_dict['loss']\n",
        "val_loss = history_dict['val_loss']\n",
        "\n",
        "epochs = range(1, len(acc) + 1)\n",
        "fig = plt.figure(figsize=(10, 6))\n",
        "fig.tight_layout()\n",
        "\n",
        "plt.subplot(2, 1, 1)\n",
        "plt.plot(epochs, loss, 'r', label='Training loss')\n",
        "\n",
        "plt.plot(epochs, val_loss, 'b', label='Validation loss')\n",
        "plt.title('Training and validation loss')\n",
        "plt.xlabel('Epochs')\n",
        "plt.ylabel('Loss')\n",
        "plt.legend()\n",
        "\n",
        "plt.subplot(2, 1, 2)\n",
        "plt.plot(epochs, acc, 'r', label='Training acc')\n",
        "plt.plot(epochs, val_acc, 'b', label='Validation acc')\n",
        "plt.title('Training and validation accuracy')\n",
        "plt.xlabel('Epochs')\n",
        "plt.ylabel('Accuracy')\n",
        "plt.legend(loc='lower right')"
      ],
      "execution_count": null,
      "outputs": []
    },
    {
      "cell_type": "code",
      "metadata": {
        "id": "goQfdP_4arDR"
      },
      "source": [
        "model_fname = 'IMDB_BERT_CLASSIFIER_3'\n",
        "my_wd = '/content/drive/MyDrive/Colab Notebooks/Models/'\n",
        "saved_model_path = os.path.join(my_wd, model_fname)"
      ],
      "execution_count": 17,
      "outputs": []
    },
    {
      "cell_type": "code",
      "metadata": {
        "id": "r_v-T5hNawrL"
      },
      "source": [
        "model.save(saved_model_path, include_optimizer=False)"
      ],
      "execution_count": 21,
      "outputs": []
    },
    {
      "cell_type": "markdown",
      "metadata": {
        "id": "VWYIJSoka05W"
      },
      "source": [
        "#### load saved model"
      ]
    },
    {
      "cell_type": "code",
      "metadata": {
        "id": "qRYAXQxSa2Ve"
      },
      "source": [
        "model = tf.saved_model.load(saved_model_path)"
      ],
      "execution_count": 18,
      "outputs": []
    },
    {
      "cell_type": "code",
      "metadata": {
        "id": "nP7WlOnObo-w"
      },
      "source": [
        "def process_articles(articles):\n",
        "  print(len(articles))\n",
        "  selected_sentences = []\n",
        "  for article in articles:\n",
        "    result = [word for word in TARGET_WORDS if(word in article)]\n",
        "    if (bool(result)):\n",
        "      selected_sentences.append(article)\n",
        "  print(len(selected_sentences))\n",
        "  return selected_sentences"
      ],
      "execution_count": 23,
      "outputs": []
    },
    {
      "cell_type": "code",
      "metadata": {
        "id": "UfAZ18zXiB4e"
      },
      "source": [
        "def write_to_file(document, file):\n",
        "    document = json.dumps(document)\n",
        "    with open(file, 'w') as f:\n",
        "        f.write(document)\n",
        "    print(\"file write to disk complete\")"
      ],
      "execution_count": 24,
      "outputs": []
    },
    {
      "cell_type": "code",
      "metadata": {
        "id": "e6tp7qNMa6Ru"
      },
      "source": [
        "# def predict_sentiments(data_frames):\n",
        "#   total_sentiment_frequency = {}\n",
        "\n",
        "#   for key, df in data_frames.items():\n",
        "#     pred_sentences = process_articles(df['text'])\n",
        "    \n",
        "#     parsed_results = tf.sigmoid(model(tf.constant(pred_sentences))).numpy()\n",
        "#     sentiment_frequency = { \n",
        "#       \"Negative\": 0,\n",
        "#       \"Positive\": 0,\n",
        "#     }\n",
        "#     for i in parsed_results:\n",
        "#       if (i[0] > 0.5):\n",
        "#         sentiment_frequency['Positive'] += 1\n",
        "#       else:\n",
        "#         sentiment_frequency['Negative'] += 1\n",
        "#     total_sentiment_frequency[key] = sentiment_frequency\n",
        "#     file = f'/content/drive/MyDrive/Colab Notebooks/results/total_sentiment_frequency'\n",
        "#     write_to_file(total_sentiment_frequency, file)\n",
        "#   return total_sentiment_frequency"
      ],
      "execution_count": 17,
      "outputs": []
    },
    {
      "cell_type": "code",
      "metadata": {
        "id": "1UBxr8iGrWTN"
      },
      "source": [
        "def predict_sentiments(key, dataframe):\n",
        "  print(key)\n",
        "  pred_sentences = process_articles(dataframe['text'])\n",
        "  \n",
        "  parsed_results = tf.sigmoid(model(tf.constant(pred_sentences))).numpy()\n",
        "  sentiment_frequency = { \n",
        "    \"Negative\": 0,\n",
        "    \"Positive\": 0,\n",
        "  }\n",
        "  for i in parsed_results:\n",
        "    if (i[0] > 0.5):\n",
        "      sentiment_frequency['Positive'] += 1\n",
        "    else:\n",
        "      sentiment_frequency['Negative'] += 1\n",
        "  file = f'/content/drive/MyDrive/Colab Notebooks/results/sentiment_frequency_{key}'\n",
        "  write_to_file(sentiment_frequency, file)\n",
        "  return sentiment_frequency"
      ],
      "execution_count": 25,
      "outputs": []
    },
    {
      "cell_type": "code",
      "metadata": {
        "colab": {
          "base_uri": "https://localhost:8080/"
        },
        "id": "5NSup6CL05GK",
        "outputId": "388e82d1-d3bd-48fa-e77b-9b6b26d165ad"
      },
      "source": [
        "# change the key value to values between 2014-2018 to generate sentiment predictions for all articles in the said year\n",
        "key = '2018'\n",
        "sentiment_frequency = predict_sentiments(key, processed_dfs[key])"
      ],
      "execution_count": null,
      "outputs": [
        {
          "output_type": "stream",
          "text": [
            "2018\n",
            "8291\n",
            "3260\n"
          ],
          "name": "stdout"
        }
      ]
    },
    {
      "cell_type": "code",
      "metadata": {
        "colab": {
          "base_uri": "https://localhost:8080/"
        },
        "id": "_jjyYy4LrR0V",
        "outputId": "f19a0604-91fe-45d4-924d-e16b5e3bef15"
      },
      "source": [
        "# total_sentiment_frequency = {}\n",
        "# for key, df in processed_dfs.items():\n",
        "#   sentiment_frequency = predict_sentiments(key, df)\n",
        "#   print(len(sentiment_frequency))\n",
        "#   total_sentiment_frequency[key] = sentiment_frequency"
      ],
      "execution_count": null,
      "outputs": [
        {
          "output_type": "stream",
          "text": [
            "2014\n",
            "2072\n",
            "775\n"
          ],
          "name": "stdout"
        }
      ]
    },
    {
      "cell_type": "code",
      "metadata": {
        "colab": {
          "base_uri": "https://localhost:8080/"
        },
        "id": "KwdwpoTK1lLz",
        "outputId": "e9c6a8c3-dabf-4ac6-ec2d-ca947d9e50c1"
      },
      "source": [
        "total_sentiment_frequency={}\n",
        "for key in processed_dfs:\n",
        "  file = f'/content/drive/MyDrive/Colab Notebooks/results/sentiment_frequency_{key}'\n",
        "  with open(file, \"r\") as f:\n",
        "    print(f\"read {file} complete\")\n",
        "    total_sentiment_frequency[key] = json.load(f)"
      ],
      "execution_count": 19,
      "outputs": [
        {
          "output_type": "stream",
          "text": [
            "read /content/drive/MyDrive/Colab Notebooks/results/sentiment_frequency_2014 complete\n",
            "read /content/drive/MyDrive/Colab Notebooks/results/sentiment_frequency_2015 complete\n",
            "read /content/drive/MyDrive/Colab Notebooks/results/sentiment_frequency_2016 complete\n",
            "read /content/drive/MyDrive/Colab Notebooks/results/sentiment_frequency_2017 complete\n"
          ],
          "name": "stdout"
        }
      ]
    },
    {
      "cell_type": "code",
      "metadata": {
        "colab": {
          "base_uri": "https://localhost:8080/",
          "height": 1000
        },
        "id": "idwKYVDcsJQb",
        "outputId": "5f53a6a1-8129-4067-a161-22ace1de4435"
      },
      "source": [
        "for key, val in total_sentiment_frequency.items():\n",
        "  plt.title(f'{key} Sentiment analyis')\n",
        "  plt.bar(['negative', 'positive'], [val['Negative'], val['Positive']])\n",
        "  plt.ylabel('count')\n",
        "  plt.show()"
      ],
      "execution_count": 20,
      "outputs": [
        {
          "output_type": "display_data",
          "data": {
            "image/png": "[encoded data removed]",
            "text/plain": [
              "<Figure size 432x288 with 1 Axes>"
            ]
          },
          "metadata": {
            "tags": [],
            "needs_background": "light"
          }
        },
        {
          "output_type": "display_data",
          "data": {
            "image/png": "[encoded data removed]",
            "text/plain": [
              "<Figure size 432x288 with 1 Axes>"
            ]
          },
          "metadata": {
            "tags": [],
            "needs_background": "light"
          }
        },
        {
          "output_type": "display_data",
          "data": {
            "image/png": "[encoded data removed]",
            "text/plain": [
              "<Figure size 432x288 with 1 Axes>"
            ]
          },
          "metadata": {
            "tags": [],
            "needs_background": "light"
          }
        },
        {
          "output_type": "display_data",
          "data": {
            "image/png": "[encoded data removed]",
            "text/plain": [
              "<Figure size 432x288 with 1 Axes>"
            ]
          },
          "metadata": {
            "tags": [],
            "needs_background": "light"
          }
        }
      ]
    }
  ]
}