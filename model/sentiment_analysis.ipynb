{
 "cells": [
  {
   "cell_type": "code",
   "execution_count": 6,
   "id": "artificial-caribbean",
   "metadata": {},
   "outputs": [
    {
     "output_type": "execute_result",
     "data": {
      "text/plain": [
       "                                                text\n",
       "0  ['The Boston Police Department has issued a co...\n",
       "1  ['\\n individuals who worked in finance, insura...\n",
       "2  ['Dr. Kenneth C. Edelin, whose historic 1975 m...\n",
       "3  ['The first words in the Bible are “In the beg...\n",
       "4  ['When they go up, they form the centerpiece o..."
      ],
      "text/html": "<div>\n<style scoped>\n    .dataframe tbody tr th:only-of-type {\n        vertical-align: middle;\n    }\n\n    .dataframe tbody tr th {\n        vertical-align: top;\n    }\n\n    .dataframe thead th {\n        text-align: right;\n    }\n</style>\n<table border=\"1\" class=\"dataframe\">\n  <thead>\n    <tr style=\"text-align: right;\">\n      <th></th>\n      <th>text</th>\n    </tr>\n  </thead>\n  <tbody>\n    <tr>\n      <th>0</th>\n      <td>['The Boston Police Department has issued a co...</td>\n    </tr>\n    <tr>\n      <th>1</th>\n      <td>['\\n individuals who worked in finance, insura...</td>\n    </tr>\n    <tr>\n      <th>2</th>\n      <td>['Dr. Kenneth C. Edelin, whose historic 1975 m...</td>\n    </tr>\n    <tr>\n      <th>3</th>\n      <td>['The first words in the Bible are “In the beg...</td>\n    </tr>\n    <tr>\n      <th>4</th>\n      <td>['When they go up, they form the centerpiece o...</td>\n    </tr>\n  </tbody>\n</table>\n</div>"
     },
     "metadata": {},
     "execution_count": 6
    }
   ],
   "source": [
    "import pandas as pd\n",
    "import os\n",
    "import random\n",
    "import gensim.models.doc2vec\n",
    "\n",
    "from gensim.models.doc2vec import Doc2Vec\n",
    "\n",
    "\n",
    "df = pd.read_csv('./bostonGlobe/bostonglobe2014.csv')\n",
    "df.head()"
   ]
  },
  {
   "cell_type": "code",
   "execution_count": 8,
   "metadata": {},
   "outputs": [
    {
     "output_type": "execute_result",
     "data": {
      "text/plain": [
       "\"['First Night Boston almost didn’t happen this year. Money ran out, budgets were cut, and then Mayor Thomas M. Menino, in one of his last acts, made sure the show would go on. Here are some of the highlights. For a full listing of events, details on where to buy the $10 First Night buttons, as well as venue information, go to \\\\n\\\\n\\\\n\\\\n\\\\n\\\\nFolk music for all ages is demonstrated by Dan Zanes, former member of  the Del Fuegos band, and Elizabeth Mitchell, a Smithsonian Folkways recording artist. In 2007 Zanes received a Grammy Award and Mitchell was a nominee for the 56th annual Grammy Awards for Best Children’s Album. \\\\n\\\\n\\\\nGroove to the beat of Afro-Brazilian drumming put together by Grooversity and IntAfrika. Created by Brazilian percussionist Marcus Santos, the Grooversity entertainment group not only educates, but also engages others to be a part of social change. \\\\n\\\\n\\\\n\\\\nAdults and children can learn how to walk the tight wire, use the aerial lyra, and ride the gym wheels. If these activities are too frightening, watching is OK too. \\\\n\\\\nThe Young Women’s Chorus (grades 9-12) and the Young Men’s Chorus (grades 8-12) will perform separately. Both Choruses will perform together during the last performance with pieces by George Frideric Handel and Lowell Mason. \\\\n\\\\n\\\\n\\\\nChinese art activities include dragons, lanterns, firecrackers, and more. Celebrate the Chinese New Year (Jan. 31) by hanging up your decorations. \\\\n\\\\n\\\\n\\\\nGet your face painted and become anything! The possibilities are endless. \\\\n\\\\n\\\\n\\\\nProjects of interactive and \\\\nimmersive art will be on display. One project included is a 15-foot-6-inch-tall scale model of the Prudential Tower. \\\\n\\\\n\\\\nIt’s a festival within a festival, who knew? Celebrate with games, music, and storytelling. \\\\n\\\\n\\\\n\\\\nPerformances by Puppet Showplace Theater and puppeteers from all over New England include multiple characters as well as music.\\\\n\\\\nRadio Disney Boston will feature games, prizes and, of course, music.\\\\n\\\\nThis performance incorporates traditional Chinese dance, which is divided into classical and folk, and martial arts. \\\\n\\\\nComedic magician BJ Hickman puts on a show in which curiosity and participation  play parts. \\\\n\\\\nMorgan White Jr., a host on WBZ-AM, is known as a trivia master. Take him on in challenges and see who comes out more knowledgeable. \\\\n\\\\nTake sight of magic, juggling, and telekinetic powers. Having performed at the Great Hall of the Nantucket Atheneum five times, Scott Jameson may surprise you. \\\\n\\\\nPresented will be traditional and contemporary Irish dance. \\\\n\\\\nDan Foley and Joel Harris perform stunts and tricks with all sorts of objects. Performing for over 20 years, this duo takes juggling to the max. \\\\n\\\\n\\\\n\\\\nThis is the first time Jo-Me Dance Company will be attending First Night. It brings young dancers together and creates a community among them. \\\\n\\\\nThe only tool needed for this mime performance is imagination. \\\\n\\\\nA short workshop for mime techniques and tricks will follow.\\\\n\\\\nThese aerial entertainers trampoline up to 26 feet in the air with objects including hula-hoops and snowboards. The Skyriders have been performing for more than 16 years.\\\\n\\\\n\\\\n\\\\nFirst Night button holders may receive free admission to the Boston Children’s Museum on Dec. 31. \\\\n\\\\nFree admission to the first 300 First Night button holders. There will be art making films showing and art-inspired gifts. \\\\n\\\\nThe library offers free admission to First Night button holders. Performances include the Chinese Dulcimer Guzheng Youth Band at 11:30 a.m., Odaiko New England at 1:30 p.m., and Back Bay Ringers at 3 p.m. Activities include face painting, arts, and crafts. \\\\n\\\\n\\\\n\\\\nHarrison Gray Otis and his wife, Sally Foster Otis, are considered one of Boston’s memorable early-19th-century families. There will be free admission to their house, which is now a museum, for First Night button holders. There will also be a performance from 6-9 p.m. by musician Chris Renna. \\\\n\\\\nFree admission to the first 50 First Night button holders. This concert by the Handel and Haydn Society is to commemorate President Lincoln’s 1863 Emancipation Proclamation. \\\\n\\\\n\\\\nThe US Maritime Museum will have complimentary refreshments and family activities as well as musical performances. Free to all First Night button holders. \\\\n\\\\nThis event will be free to First Night button holders, who can visit one exhibit hall per button. \\\\n\\\\nThis intimate, 10-minute pyrotechnic show can be enjoyed by both families with youngsters that can’t make it to midnight and night owls looking to start their festivities off with a bang.\\\\n\\\\nThe Boston Poetry Slam has participated in the citywide First Night celebration for over a decade. This year, the typically nontraditional bunch returns to perform a series of fast-paced, 4-person demonstration slams in which poets compete to impress a judging panel of randomly selected members of the audience. \\\\n\\\\n\\\\n\\\\nFor the first time in First Night history, the Puppet Showplace Theatre will host a daylong cabaret-style puppetry festival. Recommended for ages 13 and up, the acts will include visually-compelling trick marionettes, elaborate shadow puppets, and a modernized version of Punch and Judy. The National Marionette Theatre, the Dolly Wagglers, Puppet Master Jake, and others will perform.\\\\n\\\\n\\\\n\\\\nRingmaster Walter Sickert and his band of anachronistic vaudevillians invite you into their rollicking carnival world of “steamCRUNK” music and eclectic performance art. \\\\n\\\\n\\\\n\\\\nBecause First Night belongs to us (sung to the tune of “Because the Night”), legendary punk poetess and award-winning author Patti Smith will rock the bells in Boston after ending her 14-year New Year’s residency at New York’s Bowery Ballroom in 2011. She is joined by indie rock champion Dean Wareham, formerly of Luna and Galaxie 500.\\\\n\\\\nSome of Boston’s best storytellers perform in this special edition PG-13 First Night slam. MassMouth also invites volunteer audience members to the stage to share their stories of fear, magic, risk, and other Season V themes. This slam is for the love of the craft and will not be judged.\\\\n\\\\nThe West African world-fusion band led by Senegalese rhythm guitarist and drummer Mamadou Diop incorporates the rhythms of high-life, juju, rumba, samba, salsa, and reggae into a multilingual melting pot of dance music.\\\\n\\\\n\\\\n\\\\n\\\\n\\\\nPose with family and friends for next year’s Christmas photo as a snow family, on a frozen bench, on an interactive ice sleigh, or next to an iceberg replica of the Red Sox World Series trophy.\\\\n\\\\nWatch as sculpture artists Eric Fontecchio of Brookline Ice and Donald Chapelle of Brilliant Ice Sculptures chisel slabs of ice into works of art. At nightfall, the frozen figures will be illuminated in a dazzling spectrum of color.\\\\n\\\\n\\\\n\\\\nInflatables, mobile sculptures, drummers, dancers, clowns, and duck boats will parade downtown to this year’s theme: a celebration of light. Sections of the procession will portray the light of the sun, light of the moon, lights of the city, and the light of imagination.\\\\n\\\\n\\\\n\\\\n\\\\nThe Skating Club of Boston hosts an ice skating exhibition on the Frog Pond. Watch students, seasoned competitors, and champions from the local and national circuit perform their spirals, spins, jumps, and fancy footwork in programs choreographed to your favorite songs.\\\\n\\\\n\\\\n\\\\n\\\\n\\\\n\\\\n\\\\nThe improv actors at ImprovBoston take suggestions from the audience woven into challenges, scenes, songs, and one-liners to create a spontaneous, high-energy performance for all ages.\\\\n\\\\n\\\\n\\\\nRecording artist, cellist, singer-songwriter, and composer Kendall Ramseur, who performed for poet Maya Angelou on her 80th birthday, brings his uplifting musical mission to First Night.\\\\n\\\\n\\\\n\\\\nThe Berklee Silent Film Orchestra will play an original score for a screening of the Harold Lloyd classic. \\\\n']\""
      ]
     },
     "metadata": {},
     "execution_count": 8
    }
   ],
   "source": [
    "df.iloc[5,0]"
   ]
  },
  {
   "cell_type": "code",
   "execution_count": 9,
   "metadata": {},
   "outputs": [],
   "source": [
    "spec_chars = [\"!\",'\"',\"#\",\"%\",\"&\",\"'\",\"(\",\")\",\n",
    "              \"*\",\"+\",\",\",\"-\",\".\",\"/\",\":\",\";\",\"<\",\n",
    "              \"=\",\">\",\"?\",\"@\",\"[\",\"\\\\\",\"]\",\"^\",\"_\",\n",
    "              \"`\",\"{\",\"|\",\"}\",\"~\",\"–\", \"\\xc2\", \"\\xa0\",\n",
    "             \"\\x80\", \"\\x9c\", \"\\x99\", \"\\x94\", \"\\xad\", \"\\xe2\", \"\\x9d\"]\n",
    "\n",
    "for char in spec_chars:\n",
    "    df['text'] = df['text'].str.replace(char, ' ')"
   ]
  },
  {
   "cell_type": "code",
   "execution_count": 10,
   "metadata": {},
   "outputs": [
    {
     "output_type": "execute_result",
     "data": {
      "text/plain": [
       "'  First Night Boston almost didn’t happen this year  Money ran out  budgets were cut  and then Mayor Thomas M  Menino  in one of his last acts  made sure the show would go on  Here are some of the highlights  For a full listing of events  details on where to buy the $10 First Night buttons  as well as venue information  go to  n n n n n nFolk music for all ages is demonstrated by Dan Zanes  former member of  the Del Fuegos band  and Elizabeth Mitchell  a Smithsonian Folkways recording artist  In 2007 Zanes received a Grammy Award and Mitchell was a nominee for the 56th annual Grammy Awards for Best Children’s Album   n n nGroove to the beat of Afro Brazilian drumming put together by Grooversity and IntAfrika  Created by Brazilian percussionist Marcus Santos  the Grooversity entertainment group not only educates  but also engages others to be a part of social change   n n n nAdults and children can learn how to walk the tight wire  use the aerial lyra  and ride the gym wheels  If these activities are too frightening  watching is OK too   n nThe Young Women’s Chorus  grades 9 12  and the Young Men’s Chorus  grades 8 12  will perform separately  Both Choruses will perform together during the last performance with pieces by George Frideric Handel and Lowell Mason   n n n nChinese art activities include dragons  lanterns  firecrackers  and more  Celebrate the Chinese New Year  Jan  31  by hanging up your decorations   n n n nGet your face painted and become anything  The possibilities are endless   n n n nProjects of interactive and  nimmersive art will be on display  One project included is a 15 foot 6 inch tall scale model of the Prudential Tower   n n nIt’s a festival within a festival  who knew  Celebrate with games  music  and storytelling   n n n nPerformances by Puppet Showplace Theater and puppeteers from all over New England include multiple characters as well as music  n nRadio Disney Boston will feature games  prizes and  of course  music  n nThis performance incorporates traditional Chinese dance  which is divided into classical and folk  and martial arts   n nComedic magician BJ Hickman puts on a show in which curiosity and participation  play parts   n nMorgan White Jr   a host on WBZ AM  is known as a trivia master  Take him on in challenges and see who comes out more knowledgeable   n nTake sight of magic  juggling  and telekinetic powers  Having performed at the Great Hall of the Nantucket Atheneum five times  Scott Jameson may surprise you   n nPresented will be traditional and contemporary Irish dance   n nDan Foley and Joel Harris perform stunts and tricks with all sorts of objects  Performing for over 20 years  this duo takes juggling to the max   n n n nThis is the first time Jo Me Dance Company will be attending First Night  It brings young dancers together and creates a community among them   n nThe only tool needed for this mime performance is imagination   n nA short workshop for mime techniques and tricks will follow  n nThese aerial entertainers trampoline up to 26 feet in the air with objects including hula hoops and snowboards  The Skyriders have been performing for more than 16 years  n n n nFirst Night button holders may receive free admission to the Boston Children’s Museum on Dec  31   n nFree admission to the first 300 First Night button holders  There will be art making films showing and art inspired gifts   n nThe library offers free admission to First Night button holders  Performances include the Chinese Dulcimer Guzheng Youth Band at 11 30 a m   Odaiko New England at 1 30 p m   and Back Bay Ringers at 3 p m  Activities include face painting  arts  and crafts   n n n nHarrison Gray Otis and his wife  Sally Foster Otis  are considered one of Boston’s memorable early 19th century families  There will be free admission to their house  which is now a museum  for First Night button holders  There will also be a performance from 6 9 p m  by musician Chris Renna   n nFree admission to the first 50 First Night button holders  This concert by the Handel and Haydn Society is to commemorate President Lincoln’s 1863 Emancipation Proclamation   n n nThe US Maritime Museum will have complimentary refreshments and family activities as well as musical performances  Free to all First Night button holders   n nThis event will be free to First Night button holders  who can visit one exhibit hall per button   n nThis intimate  10 minute pyrotechnic show can be enjoyed by both families with youngsters that can’t make it to midnight and night owls looking to start their festivities off with a bang  n nThe Boston Poetry Slam has participated in the citywide First Night celebration for over a decade  This year  the typically nontraditional bunch returns to perform a series of fast paced  4 person demonstration slams in which poets compete to impress a judging panel of randomly selected members of the audience   n n n nFor the first time in First Night history  the Puppet Showplace Theatre will host a daylong cabaret style puppetry festival  Recommended for ages 13 and up  the acts will include visually compelling trick marionettes  elaborate shadow puppets  and a modernized version of Punch and Judy  The National Marionette Theatre  the Dolly Wagglers  Puppet Master Jake  and others will perform  n n n nRingmaster Walter Sickert and his band of anachronistic vaudevillians invite you into their rollicking carnival world of “steamCRUNK” music and eclectic performance art   n n n nBecause First Night belongs to us  sung to the tune of “Because the Night”   legendary punk poetess and award winning author Patti Smith will rock the bells in Boston after ending her 14 year New Year’s residency at New York’s Bowery Ballroom in 2011  She is joined by indie rock champion Dean Wareham  formerly of Luna and Galaxie 500  n nSome of Boston’s best storytellers perform in this special edition PG 13 First Night slam  MassMouth also invites volunteer audience members to the stage to share their stories of fear  magic  risk  and other Season V themes  This slam is for the love of the craft and will not be judged  n nThe West African world fusion band led by Senegalese rhythm guitarist and drummer Mamadou Diop incorporates the rhythms of high life  juju  rumba  samba  salsa  and reggae into a multilingual melting pot of dance music  n n n n n nPose with family and friends for next year’s Christmas photo as a snow family  on a frozen bench  on an interactive ice sleigh  or next to an iceberg replica of the Red Sox World Series trophy  n nWatch as sculpture artists Eric Fontecchio of Brookline Ice and Donald Chapelle of Brilliant Ice Sculptures chisel slabs of ice into works of art  At nightfall  the frozen figures will be illuminated in a dazzling spectrum of color  n n n nInflatables  mobile sculptures  drummers  dancers  clowns  and duck boats will parade downtown to this year’s theme  a celebration of light  Sections of the procession will portray the light of the sun  light of the moon  lights of the city  and the light of imagination  n n n n nThe Skating Club of Boston hosts an ice skating exhibition on the Frog Pond  Watch students  seasoned competitors  and champions from the local and national circuit perform their spirals  spins  jumps  and fancy footwork in programs choreographed to your favorite songs  n n n n n n n nThe improv actors at ImprovBoston take suggestions from the audience woven into challenges  scenes  songs  and one liners to create a spontaneous  high energy performance for all ages  n n n nRecording artist  cellist  singer songwriter  and composer Kendall Ramseur  who performed for poet Maya Angelou on her 80th birthday  brings his uplifting musical mission to First Night  n n n nThe Berklee Silent Film Orchestra will play an original score for a screening of the Harold Lloyd classic   n  '"
      ]
     },
     "metadata": {},
     "execution_count": 10
    }
   ],
   "source": [
    "df.iloc[5,0]"
   ]
  },
  {
   "cell_type": "code",
   "execution_count": 11,
   "metadata": {},
   "outputs": [],
   "source": [
    "def tokenize(text, stopwords, max_len = 20):\n",
    "    return [token for token in gensim.utils.simple_preprocess(text, max_len=max_len) if token not in stopwords]"
   ]
  },
  {
   "cell_type": "code",
   "execution_count": 13,
   "metadata": {},
   "outputs": [],
   "source": [
    "articles = df.values.tolist()\n",
    "articles_flat = [item for sublist in articles for item in sublist]\n",
    "tagged_docs = [gensim.models.doc2vec.TaggedDocument(tokenize(text, [], max_len=200), [i]) for i, text in enumerate(articles_flat)]"
   ]
  },
  {
   "cell_type": "code",
   "execution_count": 14,
   "metadata": {},
   "outputs": [
    {
     "output_type": "execute_result",
     "data": {
      "text/plain": [
       "TaggedDocument(words=['first', 'night', 'boston', 'almost', 'didn', 'happen', 'this', 'year', 'money', 'ran', 'out', 'budgets', 'were', 'cut', 'and', 'then', 'mayor', 'thomas', 'menino', 'in', 'one', 'of', 'his', 'last', 'acts', 'made', 'sure', 'the', 'show', 'would', 'go', 'on', 'here', 'are', 'some', 'of', 'the', 'highlights', 'for', 'full', 'listing', 'of', 'events', 'details', 'on', 'where', 'to', 'buy', 'the', 'first', 'night', 'buttons', 'as', 'well', 'as', 'venue', 'information', 'go', 'to', 'nfolk', 'music', 'for', 'all', 'ages', 'is', 'demonstrated', 'by', 'dan', 'zanes', 'former', 'member', 'of', 'the', 'del', 'fuegos', 'band', 'and', 'elizabeth', 'mitchell', 'smithsonian', 'folkways', 'recording', 'artist', 'in', 'zanes', 'received', 'grammy', 'award', 'and', 'mitchell', 'was', 'nominee', 'for', 'the', 'th', 'annual', 'grammy', 'awards', 'for', 'best', 'children', 'album', 'ngroove', 'to', 'the', 'beat', 'of', 'afro', 'brazilian', 'drumming', 'put', 'together', 'by', 'grooversity', 'and', 'intafrika', 'created', 'by', 'brazilian', 'percussionist', 'marcus', 'santos', 'the', 'grooversity', 'entertainment', 'group', 'not', 'only', 'educates', 'but', 'also', 'engages', 'others', 'to', 'be', 'part', 'of', 'social', 'change', 'nadults', 'and', 'children', 'can', 'learn', 'how', 'to', 'walk', 'the', 'tight', 'wire', 'use', 'the', 'aerial', 'lyra', 'and', 'ride', 'the', 'gym', 'wheels', 'if', 'these', 'activities', 'are', 'too', 'frightening', 'watching', 'is', 'ok', 'too', 'nthe', 'young', 'women', 'chorus', 'grades', 'and', 'the', 'young', 'men', 'chorus', 'grades', 'will', 'perform', 'separately', 'both', 'choruses', 'will', 'perform', 'together', 'during', 'the', 'last', 'performance', 'with', 'pieces', 'by', 'george', 'frideric', 'handel', 'and', 'lowell', 'mason', 'nchinese', 'art', 'activities', 'include', 'dragons', 'lanterns', 'firecrackers', 'and', 'more', 'celebrate', 'the', 'chinese', 'new', 'year', 'jan', 'by', 'hanging', 'up', 'your', 'decorations', 'nget', 'your', 'face', 'painted', 'and', 'become', 'anything', 'the', 'possibilities', 'are', 'endless', 'nprojects', 'of', 'interactive', 'and', 'nimmersive', 'art', 'will', 'be', 'on', 'display', 'one', 'project', 'included', 'is', 'foot', 'inch', 'tall', 'scale', 'model', 'of', 'the', 'prudential', 'tower', 'nit', 'festival', 'within', 'festival', 'who', 'knew', 'celebrate', 'with', 'games', 'music', 'and', 'storytelling', 'nperformances', 'by', 'puppet', 'showplace', 'theater', 'and', 'puppeteers', 'from', 'all', 'over', 'new', 'england', 'include', 'multiple', 'characters', 'as', 'well', 'as', 'music', 'nradio', 'disney', 'boston', 'will', 'feature', 'games', 'prizes', 'and', 'of', 'course', 'music', 'nthis', 'performance', 'incorporates', 'traditional', 'chinese', 'dance', 'which', 'is', 'divided', 'into', 'classical', 'and', 'folk', 'and', 'martial', 'arts', 'ncomedic', 'magician', 'bj', 'hickman', 'puts', 'on', 'show', 'in', 'which', 'curiosity', 'and', 'participation', 'play', 'parts', 'nmorgan', 'white', 'jr', 'host', 'on', 'wbz', 'am', 'is', 'known', 'as', 'trivia', 'master', 'take', 'him', 'on', 'in', 'challenges', 'and', 'see', 'who', 'comes', 'out', 'more', 'knowledgeable', 'ntake', 'sight', 'of', 'magic', 'juggling', 'and', 'telekinetic', 'powers', 'having', 'performed', 'at', 'the', 'great', 'hall', 'of', 'the', 'nantucket', 'atheneum', 'five', 'times', 'scott', 'jameson', 'may', 'surprise', 'you', 'npresented', 'will', 'be', 'traditional', 'and', 'contemporary', 'irish', 'dance', 'ndan', 'foley', 'and', 'joel', 'harris', 'perform', 'stunts', 'and', 'tricks', 'with', 'all', 'sorts', 'of', 'objects', 'performing', 'for', 'over', 'years', 'this', 'duo', 'takes', 'juggling', 'to', 'the', 'max', 'nthis', 'is', 'the', 'first', 'time', 'jo', 'me', 'dance', 'company', 'will', 'be', 'attending', 'first', 'night', 'it', 'brings', 'young', 'dancers', 'together', 'and', 'creates', 'community', 'among', 'them', 'nthe', 'only', 'tool', 'needed', 'for', 'this', 'mime', 'performance', 'is', 'imagination', 'na', 'short', 'workshop', 'for', 'mime', 'techniques', 'and', 'tricks', 'will', 'follow', 'nthese', 'aerial', 'entertainers', 'trampoline', 'up', 'to', 'feet', 'in', 'the', 'air', 'with', 'objects', 'including', 'hula', 'hoops', 'and', 'snowboards', 'the', 'skyriders', 'have', 'been', 'performing', 'for', 'more', 'than', 'years', 'nfirst', 'night', 'button', 'holders', 'may', 'receive', 'free', 'admission', 'to', 'the', 'boston', 'children', 'museum', 'on', 'dec', 'nfree', 'admission', 'to', 'the', 'first', 'first', 'night', 'button', 'holders', 'there', 'will', 'be', 'art', 'making', 'films', 'showing', 'and', 'art', 'inspired', 'gifts', 'nthe', 'library', 'offers', 'free', 'admission', 'to', 'first', 'night', 'button', 'holders', 'performances', 'include', 'the', 'chinese', 'dulcimer', 'guzheng', 'youth', 'band', 'at', 'odaiko', 'new', 'england', 'at', 'and', 'back', 'bay', 'ringers', 'at', 'activities', 'include', 'face', 'painting', 'arts', 'and', 'crafts', 'nharrison', 'gray', 'otis', 'and', 'his', 'wife', 'sally', 'foster', 'otis', 'are', 'considered', 'one', 'of', 'boston', 'memorable', 'early', 'th', 'century', 'families', 'there', 'will', 'be', 'free', 'admission', 'to', 'their', 'house', 'which', 'is', 'now', 'museum', 'for', 'first', 'night', 'button', 'holders', 'there', 'will', 'also', 'be', 'performance', 'from', 'by', 'musician', 'chris', 'renna', 'nfree', 'admission', 'to', 'the', 'first', 'first', 'night', 'button', 'holders', 'this', 'concert', 'by', 'the', 'handel', 'and', 'haydn', 'society', 'is', 'to', 'commemorate', 'president', 'lincoln', 'emancipation', 'proclamation', 'nthe', 'us', 'maritime', 'museum', 'will', 'have', 'complimentary', 'refreshments', 'and', 'family', 'activities', 'as', 'well', 'as', 'musical', 'performances', 'free', 'to', 'all', 'first', 'night', 'button', 'holders', 'nthis', 'event', 'will', 'be', 'free', 'to', 'first', 'night', 'button', 'holders', 'who', 'can', 'visit', 'one', 'exhibit', 'hall', 'per', 'button', 'nthis', 'intimate', 'minute', 'pyrotechnic', 'show', 'can', 'be', 'enjoyed', 'by', 'both', 'families', 'with', 'youngsters', 'that', 'can', 'make', 'it', 'to', 'midnight', 'and', 'night', 'owls', 'looking', 'to', 'start', 'their', 'festivities', 'off', 'with', 'bang', 'nthe', 'boston', 'poetry', 'slam', 'has', 'participated', 'in', 'the', 'citywide', 'first', 'night', 'celebration', 'for', 'over', 'decade', 'this', 'year', 'the', 'typically', 'nontraditional', 'bunch', 'returns', 'to', 'perform', 'series', 'of', 'fast', 'paced', 'person', 'demonstration', 'slams', 'in', 'which', 'poets', 'compete', 'to', 'impress', 'judging', 'panel', 'of', 'randomly', 'selected', 'members', 'of', 'the', 'audience', 'nfor', 'the', 'first', 'time', 'in', 'first', 'night', 'history', 'the', 'puppet', 'showplace', 'theatre', 'will', 'host', 'daylong', 'cabaret', 'style', 'puppetry', 'festival', 'recommended', 'for', 'ages', 'and', 'up', 'the', 'acts', 'will', 'include', 'visually', 'compelling', 'trick', 'marionettes', 'elaborate', 'shadow', 'puppets', 'and', 'modernized', 'version', 'of', 'punch', 'and', 'judy', 'the', 'national', 'marionette', 'theatre', 'the', 'dolly', 'wagglers', 'puppet', 'master', 'jake', 'and', 'others', 'will', 'perform', 'nringmaster', 'walter', 'sickert', 'and', 'his', 'band', 'of', 'anachronistic', 'vaudevillians', 'invite', 'you', 'into', 'their', 'rollicking', 'carnival', 'world', 'of', 'steamcrunk', 'music', 'and', 'eclectic', 'performance', 'art', 'nbecause', 'first', 'night', 'belongs', 'to', 'us', 'sung', 'to', 'the', 'tune', 'of', 'because', 'the', 'night', 'legendary', 'punk', 'poetess', 'and', 'award', 'winning', 'author', 'patti', 'smith', 'will', 'rock', 'the', 'bells', 'in', 'boston', 'after', 'ending', 'her', 'year', 'new', 'year', 'residency', 'at', 'new', 'york', 'bowery', 'ballroom', 'in', 'she', 'is', 'joined', 'by', 'indie', 'rock', 'champion', 'dean', 'wareham', 'formerly', 'of', 'luna', 'and', 'galaxie', 'nsome', 'of', 'boston', 'best', 'storytellers', 'perform', 'in', 'this', 'special', 'edition', 'pg', 'first', 'night', 'slam', 'massmouth', 'also', 'invites', 'volunteer', 'audience', 'members', 'to', 'the', 'stage', 'to', 'share', 'their', 'stories', 'of', 'fear', 'magic', 'risk', 'and', 'other', 'season', 'themes', 'this', 'slam', 'is', 'for', 'the', 'love', 'of', 'the', 'craft', 'and', 'will', 'not', 'be', 'judged', 'nthe', 'west', 'african', 'world', 'fusion', 'band', 'led', 'by', 'senegalese', 'rhythm', 'guitarist', 'and', 'drummer', 'mamadou', 'diop', 'incorporates', 'the', 'rhythms', 'of', 'high', 'life', 'juju', 'rumba', 'samba', 'salsa', 'and', 'reggae', 'into', 'multilingual', 'melting', 'pot', 'of', 'dance', 'music', 'npose', 'with', 'family', 'and', 'friends', 'for', 'next', 'year', 'christmas', 'photo', 'as', 'snow', 'family', 'on', 'frozen', 'bench', 'on', 'an', 'interactive', 'ice', 'sleigh', 'or', 'next', 'to', 'an', 'iceberg', 'replica', 'of', 'the', 'red', 'sox', 'world', 'series', 'trophy', 'nwatch', 'as', 'sculpture', 'artists', 'eric', 'fontecchio', 'of', 'brookline', 'ice', 'and', 'donald', 'chapelle', 'of', 'brilliant', 'ice', 'sculptures', 'chisel', 'slabs', 'of', 'ice', 'into', 'works', 'of', 'art', 'at', 'nightfall', 'the', 'frozen', 'figures', 'will', 'be', 'illuminated', 'in', 'dazzling', 'spectrum', 'of', 'color', 'ninflatables', 'mobile', 'sculptures', 'drummers', 'dancers', 'clowns', 'and', 'duck', 'boats', 'will', 'parade', 'downtown', 'to', 'this', 'year', 'theme', 'celebration', 'of', 'light', 'sections', 'of', 'the', 'procession', 'will', 'portray', 'the', 'light', 'of', 'the', 'sun', 'light', 'of', 'the', 'moon', 'lights', 'of', 'the', 'city', 'and', 'the', 'light', 'of', 'imagination', 'nthe', 'skating', 'club', 'of', 'boston', 'hosts', 'an', 'ice', 'skating', 'exhibition', 'on', 'the', 'frog', 'pond', 'watch', 'students', 'seasoned', 'competitors', 'and', 'champions', 'from', 'the', 'local', 'and', 'national', 'circuit', 'perform', 'their', 'spirals', 'spins', 'jumps', 'and', 'fancy', 'footwork', 'in', 'programs', 'choreographed', 'to', 'your', 'favorite', 'songs', 'nthe', 'improv', 'actors', 'at', 'improvboston', 'take', 'suggestions', 'from', 'the', 'audience', 'woven', 'into', 'challenges', 'scenes', 'songs', 'and', 'one', 'liners', 'to', 'create', 'spontaneous', 'high', 'energy', 'performance', 'for', 'all', 'ages', 'nrecording', 'artist', 'cellist', 'singer', 'songwriter', 'and', 'composer', 'kendall', 'ramseur', 'who', 'performed', 'for', 'poet', 'maya', 'angelou', 'on', 'her', 'th', 'birthday', 'brings', 'his', 'uplifting', 'musical', 'mission', 'to', 'first', 'night', 'nthe', 'berklee', 'silent', 'film', 'orchestra', 'will', 'play', 'an', 'original', 'score', 'for', 'screening', 'of', 'the', 'harold', 'lloyd', 'classic'], tags=[5])"
      ]
     },
     "metadata": {},
     "execution_count": 14
    }
   ],
   "source": [
    "tagged_docs[5]"
   ]
  },
  {
   "cell_type": "code",
   "execution_count": 15,
   "metadata": {},
   "outputs": [],
   "source": [
    "model = gensim.models.doc2vec.Doc2Vec(vector_size=30, epochs=40, window=2, dm=1)\n",
    "model.build_vocab(tagged_docs)\n",
    "model.train(tagged_docs, total_examples=model.corpus_count, epochs=model.epochs)"
   ]
  },
  {
   "cell_type": "code",
   "execution_count": 16,
   "metadata": {},
   "outputs": [
    {
     "output_type": "stream",
     "name": "stdout",
     "text": [
      "[-8.58766958e-02  7.44623095e-02  7.96360895e-02  8.87808353e-02\n -1.78865358e-01 -7.85488725e-01 -1.97267607e-01 -5.58691859e-01\n -3.04320663e-01  2.62528569e-01  3.38720948e-01  7.69906566e-02\n -8.63881968e-03 -5.98610580e-01 -7.88958251e-01  1.88517079e-01\n  4.46221054e-01  4.55275655e-01  2.15268180e-01 -1.24387398e-01\n  4.76542145e-01 -7.22765625e-01 -2.06352636e-01  1.00681755e-05\n  1.14174232e-01  3.78336728e-01 -3.76232922e-01  1.47920907e-01\n -1.15364231e-02 -1.80365860e-01]\n"
     ]
    }
   ],
   "source": [
    "vector = model.infer_vector(['black', 'african american', 'african-american', 'haitian', 'jamaican', 'west indian', 'dominican'])\n",
    "\n",
    "print(vector)"
   ]
  },
  {
   "cell_type": "code",
   "execution_count": 20,
   "metadata": {},
   "outputs": [
    {
     "output_type": "stream",
     "name": "stdout",
     "text": [
      "target_word: 'black' model: Doc2Vec(dm/m,d30,n5,w2,mc5,s0.001,t3) similar words:\n    1. 0.76 'masked'\n    2. 0.73 'hispanic'\n    3. 0.72 'transgender'\n    4. 0.70 'latino'\n    5. 0.69 'asian'\n    6. 0.69 'vietnamese'\n    7. 0.69 'muslim'\n    8. 0.68 'liberian'\n    9. 0.66 'kidnaps'\n    10. 0.66 'grieving'\n\ntarget_word: 'haitian' model: Doc2Vec(dm/m,d30,n5,w2,mc5,s0.001,t3) similar words:\n    1. 0.76 'american'\n    2. 0.74 'japanese'\n    3. 0.71 'captive'\n    4. 0.71 'verdean'\n    5. 0.70 'irish'\n    6. 0.69 'creole'\n    7. 0.69 'asian'\n    8. 0.68 'eric'\n    9. 0.67 'chinese'\n    10. 0.67 'diaspora'\n\ntarget_word: 'jamaican' model: Doc2Vec(dm/m,d30,n5,w2,mc5,s0.001,t3) similar words:\n    1. 0.75 'spicy'\n    2. 0.72 'juice'\n    3. 0.72 'organic'\n    4. 0.71 'stomping'\n    5. 0.70 'onions'\n    6. 0.69 'burmese'\n    7. 0.68 'unlawfully'\n    8. 0.67 'boxy'\n    9. 0.67 'savory'\n    10. 0.66 'émigré'\n\ntarget_word: 'dominican' model: Doc2Vec(dm/m,d30,n5,w2,mc5,s0.001,t3) similar words:\n    1. 0.78 'val'\n    2. 0.72 'american'\n    3. 0.71 'vegas'\n    4. 0.71 'irish'\n    5. 0.70 'geoff'\n    6. 0.70 'verdean'\n    7. 0.70 'korean'\n    8. 0.70 'northern'\n    9. 0.70 'southern'\n    10. 0.69 'methodist'\n\n"
     ]
    }
   ],
   "source": [
    "def pick_random_word(model, threshold=10):\n",
    "    # pick a random word with a suitable number of occurences\n",
    "    while True:\n",
    "        word = random.choice(model.wv.index_to_key)\n",
    "        if model.wv.get_vecattr(word, \"count\") > threshold:\n",
    "            return word\n",
    "\n",
    "#target_word = pick_random_word(model)\n",
    "# or uncomment below line, to just pick a word from the relevant domain:\n",
    "target_word = ['black', 'haitian', 'jamaican', 'dominican']\n",
    "\n",
    "for w in target_word:\n",
    "    print(f'target_word: {repr(w)} model: {model} similar words:')\n",
    "    for i, (word, sim) in enumerate(model.wv.most_similar(w, topn=10), 1):\n",
    "        print(f'    {i}. {sim:.2f} {repr(word)}')\n",
    "    print()"
   ]
  }
 ],
 "metadata": {
  "kernelspec": {
   "display_name": "Python 3",
   "language": "python",
   "name": "python3"
  },
  "language_info": {
   "codemirror_mode": {
    "name": "ipython",
    "version": 3
   },
   "file_extension": ".py",
   "mimetype": "text/x-python",
   "name": "python",
   "nbconvert_exporter": "python",
   "pygments_lexer": "ipython3",
   "version": "3.8.6"
  }
 },
 "nbformat": 4,
 "nbformat_minor": 5
}